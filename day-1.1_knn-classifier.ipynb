{
  "cells": [
    {
      "cell_type": "markdown",
      "metadata": {
        "id": "wBdWbo_wJvAM"
      },
      "source": [
        "#### **Import the required libraries**\n",
        "\n",
        "We will be using a few libraries in this session, import all the required libraries in the cell below one by one as we go through the session.\n"
      ]
    },
    {
      "cell_type": "code",
      "execution_count": 1,
      "metadata": {
        "id": "OWrzVK7EJvAO"
      },
      "outputs": [],
      "source": [
        "import os\n",
        "\n",
        "import matplotlib.pyplot as plt\n",
        "import numpy as np\n",
        "import tqdm\n",
        "import yaml\n",
        "from PIL import Image\n",
        "from sklearn.metrics import (ConfusionMatrixDisplay, classification_report,\n",
        "                             confusion_matrix)\n",
        "from sklearn.model_selection import train_test_split"
      ]
    },
    {
      "cell_type": "markdown",
      "metadata": {
        "id": "st0AFqhbJvAO"
      },
      "source": [
        "#### **Download the dataset**\n",
        "\n",
        "We will be using `CIFAR-10` dataset for this session. The dataset consists of 60,000 32x32 color images in 10 classes, with 6,000 images per class. Please download the dataset using the following command.\n",
        "\n",
        "```python\n",
        "!wget https://github.com/ccdsiub/deeplearning-code-management/raw/1.1/CIFAR-10.zip\n",
        "!wget https://github.com/ccdsiub/deeplearning-code-management/raw/1.1/configs/knn_config.yaml\n",
        "!unzip -q CIFAR-10.zip -d .\n",
        "```\n"
      ]
    },
    {
      "cell_type": "code",
      "execution_count": 2,
      "metadata": {
        "colab": {
          "base_uri": "https://localhost:8080/"
        },
        "id": "sa-4K4l1JvAP",
        "outputId": "40533645-ed7b-4dac-9084-d501f33999d6"
      },
      "outputs": [
        {
          "output_type": "stream",
          "name": "stdout",
          "text": [
            "--2024-02-13 20:15:55--  https://github.com/ccdsiub/deeplearning-code-management/raw/1.1/CIFAR-10.zip\n",
            "Resolving github.com (github.com)... 140.82.113.3\n",
            "Connecting to github.com (github.com)|140.82.113.3|:443... connected.\n",
            "HTTP request sent, awaiting response... 302 Found\n",
            "Location: https://raw.githubusercontent.com/ccdsiub/deeplearning-code-management/1.1/CIFAR-10.zip [following]\n",
            "--2024-02-13 20:15:55--  https://raw.githubusercontent.com/ccdsiub/deeplearning-code-management/1.1/CIFAR-10.zip\n",
            "Resolving raw.githubusercontent.com (raw.githubusercontent.com)... 185.199.111.133, 185.199.109.133, 185.199.108.133, ...\n",
            "Connecting to raw.githubusercontent.com (raw.githubusercontent.com)|185.199.111.133|:443... connected.\n",
            "HTTP request sent, awaiting response... 200 OK\n",
            "Length: 57166560 (55M) [application/zip]\n",
            "Saving to: ‘CIFAR-10.zip’\n",
            "\n",
            "CIFAR-10.zip        100%[===================>]  54.52M   209MB/s    in 0.3s    \n",
            "\n",
            "2024-02-13 20:15:56 (209 MB/s) - ‘CIFAR-10.zip’ saved [57166560/57166560]\n",
            "\n",
            "--2024-02-13 20:15:56--  https://github.com/ccdsiub/deeplearning-code-management/raw/1.1/configs/knn_config.yaml\n",
            "Resolving github.com (github.com)... 140.82.113.3\n",
            "Connecting to github.com (github.com)|140.82.113.3|:443... connected.\n",
            "HTTP request sent, awaiting response... 302 Found\n",
            "Location: https://raw.githubusercontent.com/ccdsiub/deeplearning-code-management/1.1/configs/knn_config.yaml [following]\n",
            "--2024-02-13 20:15:56--  https://raw.githubusercontent.com/ccdsiub/deeplearning-code-management/1.1/configs/knn_config.yaml\n",
            "Resolving raw.githubusercontent.com (raw.githubusercontent.com)... 185.199.108.133, 185.199.109.133, 185.199.110.133, ...\n",
            "Connecting to raw.githubusercontent.com (raw.githubusercontent.com)|185.199.108.133|:443... connected.\n",
            "HTTP request sent, awaiting response... 200 OK\n",
            "Length: 78 [text/plain]\n",
            "Saving to: ‘knn_config.yaml’\n",
            "\n",
            "knn_config.yaml     100%[===================>]      78  --.-KB/s    in 0s      \n",
            "\n",
            "2024-02-13 20:15:56 (2.85 MB/s) - ‘knn_config.yaml’ saved [78/78]\n",
            "\n"
          ]
        }
      ],
      "source": [
        "!wget https://github.com/ccdsiub/deeplearning-code-management/raw/1.1/CIFAR-10.zip\n",
        "!wget https://github.com/ccdsiub/deeplearning-code-management/raw/1.1/configs/knn_config.yaml\n",
        "!unzip -q CIFAR-10.zip -d ."
      ]
    },
    {
      "cell_type": "markdown",
      "metadata": {
        "id": "njuBhRpvJvAP"
      },
      "source": [
        "#### **Load configuration file**\n",
        "\n",
        "We will be using a configuration file to store all the required parameters for the model. The configuration file is a YAML file, which is a human-readable data serialization standard that can be used in conjunction with all programming languages and is often used to write configuration files. Create a new file named `config.yaml` and add the following content to it.\n",
        "\n",
        "```yaml\n",
        "data_params:\n",
        "  data_path: \"CIFAR-10/\"\n",
        "```\n",
        "\n",
        "Read the configuration file using the `yaml` library and store the data in a variable named `config`.\n"
      ]
    },
    {
      "cell_type": "code",
      "execution_count": 3,
      "metadata": {
        "colab": {
          "base_uri": "https://localhost:8080/"
        },
        "id": "3XRwC-GNJvAP",
        "outputId": "19960b8b-f2c1-48e9-cdc3-1cae13cf1957"
      },
      "outputs": [
        {
          "output_type": "stream",
          "name": "stdout",
          "text": [
            "{'data_params': {'data_path': 'CIFAR-10/', 'train_ratio': 0.8}, 'model_params': {'k': 5}}\n"
          ]
        }
      ],
      "source": [
        "config = yaml.safe_load(open(\"knn_config.yaml\"))\n",
        "print(config)"
      ]
    },
    {
      "cell_type": "markdown",
      "metadata": {
        "id": "yNgfAmrAJvAP"
      },
      "source": [
        "#### **Load the dataset**\n",
        "\n",
        "Check the files in the side panel to see if the dataset is downloaded successfully. The dataset is organized in the following way.\n",
        "\n",
        "```\n",
        "CIFAR-10\n",
        " |\n",
        " └───airplane\n",
        " |\n",
        " └───automobile\n",
        " |\n",
        " └───bird\n",
        " |\n",
        " └───cat\n",
        " |\n",
        " └───deer\n",
        " |\n",
        " └───dog\n",
        " |\n",
        " └───frog\n",
        " |\n",
        " └───horse\n",
        " |\n",
        " └───ship\n",
        " |\n",
        " └───truck\n",
        "```\n",
        "\n",
        "We will use basic python libraries like `os` and `numpy` to load the dataset. Create a function `load_data` to load the dataset. The function should take the path to the dataset as input and return a numpy array of images and labels. Following is the pseudo code for the function:\n",
        "\n",
        "```python\n",
        "def load_data(path, classes):\n",
        "    # create empty lists to store images and labels\n",
        "\n",
        "    # loop through the classes\n",
        "        # create path to the class folder\n",
        "        # loop through the images in the class folder\n",
        "            # create the path to the image\n",
        "            # read the image using PIL\n",
        "            # convert the image to numpy array\n",
        "            # append the image to the images list\n",
        "            # append the class index to the labels list\n",
        "\n",
        "    # return the images and labels as numpy arrays\n",
        "```\n"
      ]
    },
    {
      "cell_type": "code",
      "execution_count": 4,
      "metadata": {
        "id": "Dlb3M5XoJvAP"
      },
      "outputs": [],
      "source": [
        "def load_data(path: str, classes: list) -> tuple:\n",
        "    \"\"\"\n",
        "    Load data from the given path and return the data and labels as numpy arrays.\n",
        "\n",
        "    :param path: The path to the data.\n",
        "    :type path: str\n",
        "    :param classes: The classes in the data.\n",
        "    :type classes: list\n",
        "\n",
        "    :return: The data and labels.\n",
        "    :rtype: tuple(np.array, np.array)\n",
        "    \"\"\"\n",
        "\n",
        "    images = []\n",
        "    labels = []\n",
        "    for i, cls in enumerate(classes):\n",
        "        class_path = os.path.join(path, cls)\n",
        "        for img_name in os.listdir(class_path):\n",
        "            img_path = os.path.join(class_path, img_name)\n",
        "            img = Image.open(img_path)\n",
        "            img = np.array(img)\n",
        "            images.append(img)\n",
        "            labels.append(i)\n",
        "\n",
        "    images = np.array(images)\n",
        "    labels = np.array(labels)\n",
        "    return images, labels"
      ]
    },
    {
      "cell_type": "markdown",
      "metadata": {
        "id": "31LuYs5MJvAQ"
      },
      "source": [
        "As the subfolder names are the class names, get the class names using `os.listdir` and save it to a variable `classes`. Use the `load_data` function to load the dataset and save the images and labels to variables `images` and `labels` respectively.\n"
      ]
    },
    {
      "cell_type": "code",
      "execution_count": 5,
      "metadata": {
        "colab": {
          "base_uri": "https://localhost:8080/"
        },
        "id": "bQKbiBbEJvAQ",
        "outputId": "1490ffb1-7030-42cc-973a-05ac1287a271"
      },
      "outputs": [
        {
          "output_type": "stream",
          "name": "stdout",
          "text": [
            "['airplane', 'automobile', 'bird', 'cat', 'deer', 'dog', 'frog', 'horse', 'ship', 'truck']\n",
            "(60000, 32, 32, 3) (60000,)\n"
          ]
        }
      ],
      "source": [
        "data_path = config[\"data_params\"][\"data_path\"]\n",
        "classes = os.listdir(data_path)\n",
        "classes.sort()\n",
        "print(classes)\n",
        "\n",
        "images, labels = load_data(data_path, classes)\n",
        "print(images.shape, labels.shape)"
      ]
    },
    {
      "cell_type": "markdown",
      "metadata": {
        "id": "QxABvTmPJvAQ"
      },
      "source": [
        "#### **Visualize the data**\n",
        "\n",
        "Now, our dataset is loaded. Let's visualize the dataset using `matplotlib`. Choose a random image from the dataset and display the image along with the class name as the title. **Note:** In each run, the image should change, you can use `np.random.randint` to generate a random index.\n"
      ]
    },
    {
      "cell_type": "code",
      "execution_count": 6,
      "metadata": {
        "colab": {
          "base_uri": "https://localhost:8080/",
          "height": 213
        },
        "id": "H0Ao-_mtJvAQ",
        "outputId": "65337eb4-90c1-4f4f-8e45-e8cb4f824a55"
      },
      "outputs": [
        {
          "output_type": "display_data",
          "data": {
            "text/plain": [
              "<Figure size 200x200 with 1 Axes>"
            ],
            "image/png": "[encoded data removed]"
          },
          "metadata": {}
        }
      ],
      "source": [
        "random_index = np.random.randint(0, len(images))\n",
        "\n",
        "plt.figure(figsize=(2, 2))\n",
        "plt.imshow(images[random_index])\n",
        "plt.title(classes[labels[random_index]])\n",
        "plt.axis('off')\n",
        "plt.show()"
      ]
    },
    {
      "cell_type": "markdown",
      "metadata": {
        "id": "kx8xDuAzJvAR"
      },
      "source": [
        "#### **Preprocess the data**\n",
        "\n",
        "We need to normalize the images before feeding them to the model. Normalization is a process that changes the range of pixel intensity values to a standard range, it helps the model to converge faster. To normalize the images, we will use the following steps:\n",
        "\n",
        "1. Normalize to [0-1] by dividing each pixel by 255.\n",
        "2. Subtract the ImageNet mean (0.485, 0.456, 0.406) and divide by the ImageNet standard deviation (0.229, 0.224, 0.225).\n",
        "\n",
        "After normalization, we need to flatten the images. Use `np.reshape` to flatten the images.\n",
        "\n",
        "Create a function `preprocess_data` to do the above steps. The function should take the images input and return the preprocessed images. Following is the pseudo code for the function:\n",
        "\n",
        "```python\n",
        "def preprocess_data(images):\n",
        "    # normalize the images using ImageNet mean and standard deviation\n",
        "    # flatten the images\n",
        "    # return the preprocessed images\n",
        "```\n"
      ]
    },
    {
      "cell_type": "code",
      "execution_count": 7,
      "metadata": {
        "id": "-8EPFeVCJvAR"
      },
      "outputs": [],
      "source": [
        "def preprocess_images(images: np.array) -> np.array:\n",
        "    \"\"\"\n",
        "    Preprocess the images and labels.\n",
        "\n",
        "    :param images: The images.\n",
        "    :type images: np.array\n",
        "\n",
        "    :return: The preprocessed images and labels.\n",
        "    :rtype: tuple(np.array, np.array)\n",
        "    \"\"\"\n",
        "    images = images / 255.0\n",
        "    images = (images - np.array([0.485, 0.456, 0.406])\n",
        "              ) / np.array([0.229, 0.224, 0.225])\n",
        "    images = images.reshape(-1, 32*32*3)\n",
        "\n",
        "    return images"
      ]
    },
    {
      "cell_type": "markdown",
      "metadata": {
        "id": "lKZ9KP5dJvAR"
      },
      "source": [
        "Call the `preprocess_data` function to preprocess the images and save the preprocessed images to a variable `images`.\n"
      ]
    },
    {
      "cell_type": "code",
      "execution_count": 8,
      "metadata": {
        "colab": {
          "base_uri": "https://localhost:8080/"
        },
        "id": "BcepeCbPJvAR",
        "outputId": "34de435a-56fb-4b4d-f437-c2375b454293"
      },
      "outputs": [
        {
          "output_type": "stream",
          "name": "stdout",
          "text": [
            "(60000, 3072)\n"
          ]
        }
      ],
      "source": [
        "images = preprocess_images(images)\n",
        "print(images.shape)"
      ]
    },
    {
      "cell_type": "markdown",
      "metadata": {
        "id": "QpLKN8YPJvAR"
      },
      "source": [
        "#### **Split the data**\n",
        "\n",
        "We need to split the data into training, testing, and validation sets. We will use `train_test_split` from `sklearn.model_selection` to split the data into training and testing sets. We will use 80% of the data for training and 20% for testing. Then, we will use `train_test_split` again to split the testing data into testing and validation sets. We will use 50% of the testing data for testing and 50% for validation.\n"
      ]
    },
    {
      "cell_type": "code",
      "execution_count": 9,
      "metadata": {
        "colab": {
          "base_uri": "https://localhost:8080/"
        },
        "id": "DdUuDoP8JvAR",
        "outputId": "84708607-458f-4f50-fceb-7d3cc9923a39"
      },
      "outputs": [
        {
          "output_type": "stream",
          "name": "stdout",
          "text": [
            "(48000, 3072) (6000, 3072) (6000, 3072)\n",
            "(48000,) (6000,) (6000,)\n"
          ]
        }
      ],
      "source": [
        "X_train, X_test, y_train, y_test = train_test_split(\n",
        "    images, labels,\n",
        "    test_size=(1-config[\"data_params\"][\"train_ratio\"]),\n",
        "    random_state=42, shuffle=True)\n",
        "X_test, X_val, y_test, y_val = train_test_split(\n",
        "    X_test, y_test, test_size=0.5, random_state=42, shuffle=True)\n",
        "\n",
        "print(X_train.shape, X_val.shape, X_test.shape)\n",
        "print(y_train.shape, y_val.shape, y_test.shape)"
      ]
    },
    {
      "cell_type": "markdown",
      "metadata": {
        "id": "EWrnVp1fJvAR"
      },
      "source": [
        "#### **Implement the K-Nearest Neighbor algorithm**\n",
        "\n",
        "We will now implement the K-Nearest Neighbor algorithm from scratch. KNN algorithm uses a fixed number of training examples to predict the label of a new data point.\n",
        "\n",
        "In our case, we will use the training images to predict the label of a new image. We will calculate the euclidean distance between the new image and all the training images. Then, we will find the K nearest neighbors of the new image. We will use the labels of the K nearest neighbors to predict the label of the new image. The predicted label will be the label that occurs the most number of times among the K nearest neighbors.\n",
        "\n",
        "The whole process is explained in the following diagram:\n",
        "\n",
        "![image.png](data:image/png;base64,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)\n",
        "\n",
        "Now, follow the steps below to implement the KNN algorithm from scratch.\n"
      ]
    },
    {
      "cell_type": "markdown",
      "metadata": {
        "id": "FWKt1uiiJvAS"
      },
      "source": [
        "##### **Step 1: Calculate the euclidean distance**\n",
        "\n",
        "Write a function named `euclidean_distance()` that takes two numpy arrays, `image` and `train_images` as input. `train_images` is a numpy array of images from the training set. The function should calculate the euclidean distance between the each image in the `train_images` array and the `image` array. The function should return a numpy array of euclidean distances. The euclidean distance between two images can be calculated using the following formula:\n",
        "\n",
        "$$euclidean\\_distance = \\sqrt{(image\\_1 - image\\_2)^2}$$\n"
      ]
    },
    {
      "cell_type": "code",
      "execution_count": 10,
      "metadata": {
        "id": "qsMNb-f5JvAS"
      },
      "outputs": [],
      "source": [
        "def euclidean_distance(image: np.array, images: np.array) -> np.array:\n",
        "    \"\"\"\n",
        "    Compute the euclidean distance between the image and the images.\n",
        "\n",
        "    :param image: The image.\n",
        "    :type image: np.array\n",
        "    :param images: The images.\n",
        "    :type images: np.array\n",
        "\n",
        "    :return: The distances.\n",
        "    :rtype: np.array\n",
        "    \"\"\"\n",
        "    return np.sqrt(np.sum((images - image)**2, axis=1))"
      ]
    },
    {
      "cell_type": "markdown",
      "metadata": {
        "id": "uFQM8cu2JvAS"
      },
      "source": [
        "##### **Step 2: Find the nearest neighbor**\n",
        "\n",
        "Now, we will find the nearest neighbor of a new image. Write a function named `nearest_neighbor()` that takes three inputs, `new_image`, `train_images`, and `train_labels`. The function should return the label of the nearest neighbor of the new image. The function should do the following:\n",
        "\n",
        "- Calculate the euclidean distance between the new image and all the training images using the `euclidean_distance()` function and store the result in a numpy array named `distances`.\n",
        "- Sort the `distances` array using `np.argsort()` and store the result in a numpy array named `sorted_indices`.\n",
        "- Now, as `sorted_indices` contains the indices of the training images sorted by their distance from the new image, the first element of the `sorted_indices` array will contain the index of the training image that is closest to the new image. Store the label of the nearest neighbor in a variable named `nearest_neighbor`.\n",
        "- Return the variable `nearest_neighbor`.\n",
        "\n",
        "Call the `nearest_neighbor()` function to find the nearest neighbor of the first image in the testing set. Print the actual and predicted labels of the image.\n"
      ]
    },
    {
      "cell_type": "code",
      "execution_count": 11,
      "metadata": {
        "colab": {
          "base_uri": "https://localhost:8080/"
        },
        "id": "me4KK6MuJvAS",
        "outputId": "ff6a4109-88aa-421a-8764-d87c6763503f"
      },
      "outputs": [
        {
          "output_type": "stream",
          "name": "stdout",
          "text": [
            "Predicted: bird, True: deer\n"
          ]
        }
      ],
      "source": [
        "def nearest_neighbor(\n",
        "    new_image: np.array,\n",
        "    train_images: np.array,\n",
        "    train_labels: np.array\n",
        ") -> int:\n",
        "    \"\"\"\n",
        "    Compute the nearest neighbor of the image.\n",
        "\n",
        "    :param new_image: The image.\n",
        "    :type new_image: np.array\n",
        "    :param train_images: The training images.\n",
        "    :type train_images: np.array\n",
        "    :param train_labels: The training labels.\n",
        "    :type train_labels: np.array\n",
        "\n",
        "    :return: The nearest neighbor.\n",
        "    :rtype: int\n",
        "    \"\"\"\n",
        "    distances = euclidean_distance(new_image, train_images)\n",
        "    indices = np.argsort(distances)\n",
        "    nearest_neighbor = train_labels[indices[0]]\n",
        "    return nearest_neighbor\n",
        "\n",
        "\n",
        "y_pred = nearest_neighbor(X_val[0], X_train, y_train)\n",
        "\n",
        "print(f\"Predicted: {classes[y_pred]}, True: {classes[y_val[0]]}\")"
      ]
    },
    {
      "cell_type": "markdown",
      "metadata": {
        "id": "2iAi4hgRJvAS"
      },
      "source": [
        "##### **Step 3: Find the K nearest neighbors**\n",
        "\n",
        "The function we have defined is able to determine the nearest neighbour based on only watching one neighbour. We can extend this to find the K nearest neighbours. Where we will find the K nearest neighbours and then determine the most common label among them and return that as the predicted label.\n",
        "\n",
        "Update the `nearest_neighbor()` function in such a way that it takes an additional input, `k`. The function should return the label of the K nearest neighbors of the new image. Rename the function to `k_nearest_neighbors()`. You have to do the following:\n",
        "\n",
        "- Change the function name to `k_nearest_neighbors()`.\n",
        "- Add an extra parameter named `k` to the function definition. k is the number of nearest neighbors to find.\n",
        "- Update the line number 4 of the function and get the labels for the first `k` elements of the `indices` array. Rename the variable `nearest_neighbor` to `nearest_neighbors`.\n",
        "- Use the `np.unique()` function to find the unique labels and their counts in the `nearest_neighbors` array. Store the result in a variables named `values` and `counts` respectively.\n",
        "- Use the `np.argmax()` function to find the index of the most common label in the `counts` array. Use the index to get the most common label from the `values` array. Store the most common label in a variable named `predicted_label`.\n",
        "- Return the variable `predicted_label`.\n",
        "\n",
        "Call the `k_nearest_neighbors()` function to find the K nearest neighbors of the first image in the testing set. Print the actual and predicted labels of the image.\n"
      ]
    },
    {
      "cell_type": "code",
      "execution_count": 12,
      "metadata": {
        "colab": {
          "base_uri": "https://localhost:8080/"
        },
        "id": "VAFCFaYGJvAS",
        "outputId": "c2e45a53-5025-47ba-c1ae-4ba5983a707a"
      },
      "outputs": [
        {
          "output_type": "stream",
          "name": "stdout",
          "text": [
            "Predicted: bird, True: deer\n"
          ]
        }
      ],
      "source": [
        "def k_nearest_neighbor(\n",
        "    new_image: np.array,\n",
        "    train_images: np.array,\n",
        "    train_labels: np.array, k: int\n",
        ") -> int:\n",
        "    \"\"\"\n",
        "    Compute the k nearest neighbors of the image.\n",
        "\n",
        "    :param new_image: The image.\n",
        "    :type new_image: np.array\n",
        "    :param train_images: The training images.\n",
        "    :type train_images: np.array\n",
        "    :param train_labels: The training labels.\n",
        "    :type train_labels: np.array\n",
        "    :param k: The number of nearest neighbors.\n",
        "\n",
        "    :return: The predicted label.\n",
        "    :rtype: int\n",
        "    \"\"\"\n",
        "    distances = euclidean_distance(new_image, train_images)\n",
        "    indices = np.argsort(distances)\n",
        "    nearest_neighbors = train_labels[indices[:k]]\n",
        "\n",
        "    values, counts = np.unique(nearest_neighbors, return_counts=True)\n",
        "    predicted_label = values[np.argmax(counts)]\n",
        "\n",
        "    return predicted_label\n",
        "\n",
        "\n",
        "predicted_label = k_nearest_neighbor(\n",
        "    X_val[0], X_train, y_train, k=config[\"model_params\"][\"k\"])\n",
        "\n",
        "print(f\"Predicted: {classes[predicted_label]}, True: {classes[y_val[0]]}\")"
      ]
    },
    {
      "cell_type": "markdown",
      "metadata": {
        "id": "ZkjlHkxDJvAS"
      },
      "source": [
        "#### **Step 4: Predict the labels of the testing images**\n",
        "\n",
        "Now, we will use the `k_nearest_neighbors()` function to predict the labels of all the testing images. Write a function named `predict()` that takes three inputs, `test_images`, `train_images`, and `train_labels`. The function should return a numpy array of predicted labels. The function should do the following:\n",
        "\n",
        "- Create an empty numpy array named `predicted_labels`.\n",
        "- Loop through all the images in the `test_images` array. For each image, call the `k_nearest_neighbors()` function to find the K nearest neighbors of the image. Append the predicted label to the `predicted_labels` array.\n",
        "- Return the `predicted_labels` array.\n",
        "\n",
        "Call the `predict()` function to predict the labels of the testing images and store the result in a variable named `predicted_labels`. Print the actual and predicted labels of the first 10 images in the testing set.\n"
      ]
    },
    {
      "cell_type": "code",
      "execution_count": 13,
      "metadata": {
        "colab": {
          "base_uri": "https://localhost:8080/"
        },
        "id": "4A-eOHRiJvAS",
        "outputId": "b077c337-f2d8-473f-a542-c829166733b8"
      },
      "outputs": [
        {
          "output_type": "stream",
          "name": "stderr",
          "text": [
            "Predicting: 100%|█████████████████████████████████████████████| 6000/6000 [1:24:31<00:00,  1.18it/s]"
          ]
        },
        {
          "output_type": "stream",
          "name": "stdout",
          "text": [
            "\n",
            "Predictiosn:  [0. 0. 0. 8. 8. 2. 8. 0. 0. 4.]\n",
            "True:  [9 0 1 9 9 5 8 8 3 4]\n"
          ]
        },
        {
          "output_type": "stream",
          "name": "stderr",
          "text": [
            "\n"
          ]
        }
      ],
      "source": [
        "def predict(test_images, train_images, train_labels, k):\n",
        "    predictions = np.array([])\n",
        "\n",
        "    for i, image in enumerate(\n",
        "            tqdm.tqdm(test_images, ncols=100, desc=\"Predicting\")):\n",
        "        predicted_label = k_nearest_neighbor(\n",
        "            image, train_images, train_labels, k)\n",
        "        predictions = np.append(predictions, predicted_label)\n",
        "    return predictions\n",
        "\n",
        "\n",
        "y_pred = predict(X_test, X_train, y_train, k=config[\"model_params\"][\"k\"])\n",
        "\n",
        "print(\"\\nPredictiosn: \", y_pred[:10])\n",
        "print(\"True: \", y_test[:10])"
      ]
    },
    {
      "cell_type": "markdown",
      "metadata": {
        "id": "YR1CXpFzJvAT"
      },
      "source": [
        "#### **Evaluate model performance**\n",
        "\n",
        "Now, we will evaluate the performance of the KNN algorithm.\n",
        "\n",
        "1. Use scikit-learn's `classification_report` function to evaluate the performance of the model. The `classification_report` function takes two inputs, `test_labels` and `predicted_labels`, and returns a report of the precision, recall, and F1-score of the model.\n",
        "2. Use the `confusion_matrix` function to get the confusion matrix of the model. It also takes two inputs, `test_labels` and `predicted_labels`, and returns the confusion matrix of the model. Use `ConfusionMatrixDisplay` to display the confusion matrix.\n"
      ]
    },
    {
      "cell_type": "code",
      "execution_count": 14,
      "metadata": {
        "colab": {
          "base_uri": "https://localhost:8080/",
          "height": 870
        },
        "id": "-yIiBxvsJvAT",
        "outputId": "c2de373a-3a16-4574-ecf5-aa4bb121d6ed"
      },
      "outputs": [
        {
          "output_type": "display_data",
          "data": {
            "text/plain": [
              "<Figure size 640x480 with 2 Axes>"
            ],
            "image/png": "[encoded data removed]"
          },
          "metadata": {}
        },
        {
          "output_type": "stream",
          "name": "stdout",
          "text": [
            "\n",
            "\n",
            "\n",
            "              precision    recall  f1-score   support\n",
            "\n",
            "    airplane       0.36      0.53      0.43       591\n",
            "  automobile       0.65      0.18      0.29       611\n",
            "        bird       0.22      0.43      0.29       595\n",
            "         cat       0.31      0.21      0.25       612\n",
            "        deer       0.21      0.49      0.29       549\n",
            "         dog       0.42      0.26      0.32       583\n",
            "        frog       0.36      0.25      0.29       631\n",
            "       horse       0.66      0.20      0.30       625\n",
            "        ship       0.42      0.65      0.51       633\n",
            "       truck       0.61      0.11      0.18       570\n",
            "\n",
            "    accuracy                           0.33      6000\n",
            "   macro avg       0.42      0.33      0.32      6000\n",
            "weighted avg       0.42      0.33      0.32      6000\n",
            "\n"
          ]
        }
      ],
      "source": [
        "# bottom level to a slight tilted\n",
        "\n",
        "disp = ConfusionMatrixDisplay(confusion_matrix=confusion_matrix(\n",
        "    y_test, y_pred), display_labels=classes)\n",
        "disp = disp.plot(xticks_rotation=45)\n",
        "plt.title('Confusion Matrix Test Data')\n",
        "plt.show()\n",
        "\n",
        "print('\\n\\n')\n",
        "print(classification_report(y_test, y_pred, target_names=classes))"
      ]
    },
    {
      "cell_type": "markdown",
      "metadata": {
        "id": "0ih0FnD1JvAT"
      },
      "source": [
        "#### **Put it all together**\n",
        "\n",
        "Now, put all the code together in a class named `KNNClassifier`. The class should have the following methods:\n",
        "\n",
        "- `data_loader()`: Load the dataset and split it into training and testing sets.\n",
        "- `euclidean_distance()`: Calculate the euclidean distance between the new image and all the training images.\n",
        "- `k_nearest_neighbors()`: Find the K nearest neighbors of the new image.\n",
        "- `fit()`: Train the model.\n",
        "- `predict()`: Predict the labels of the testing images.\n",
        "- `evaluate()`: Evaluate the performance of the model.\n"
      ]
    },
    {
      "cell_type": "code",
      "execution_count": null,
      "metadata": {
        "id": "_911wIm9JvAT"
      },
      "outputs": [],
      "source": [
        "class KNNClassifier:\n",
        "    \"\"\"\n",
        "    K-Nearest Neighbor classifier.\n",
        "    \"\"\"\n",
        "\n",
        "    def __init__(self, k: int, data_path: str) -> None:\n",
        "        \"\"\"\n",
        "        Initialize the KNNClassifier.\n",
        "\n",
        "        :param k: The number of nearest neighbors.\n",
        "        :type k: int\n",
        "        :param data_path: The path to the data.\n",
        "        :type data_path: str\n",
        "        \"\"\"\n",
        "        self.k = k\n",
        "        self.data_path = data_path\n",
        "        self.classes = os.listdir(data_path)\n",
        "        self.classes.sort()\n",
        "\n",
        "    def load_data(self) -> None:\n",
        "        \"\"\"\n",
        "        Load the data.\n",
        "        \"\"\"\n",
        "        images = []\n",
        "        labels = []\n",
        "        for i, cls in enumerate(self.classes):\n",
        "            class_path = os.path.join(self.data_path, cls)\n",
        "            for img_name in os.listdir(class_path):\n",
        "                img_path = os.path.join(class_path, img_name)\n",
        "                img = Image.open(img_path)\n",
        "                img = np.array(img)\n",
        "                images.append(img)\n",
        "                labels.append(i)\n",
        "\n",
        "        images = np.array(images)\n",
        "        labels = np.array(labels)\n",
        "\n",
        "        self.images = images\n",
        "        self.labels = labels\n",
        "\n",
        "    def preprocess_data(self) -> None:\n",
        "        \"\"\"\n",
        "        Preprocess the data.\n",
        "        \"\"\"\n",
        "        images = self.images / 255.0\n",
        "        images = (images - np.array([0.485, 0.456, 0.406])\n",
        "                  ) / np.array([0.229, 0.224, 0.225])\n",
        "        images = images.reshape(-1, 32*32*3)\n",
        "\n",
        "        self.images = images\n",
        "\n",
        "    def data_loader(self, train_ratio: float = 0.9) -> None:\n",
        "        \"\"\"\n",
        "        Split the data into training, validation, and testing sets.\n",
        "\n",
        "        :param train_ratio: The ratio of the training data.\n",
        "        :type train_ratio: float\n",
        "        \"\"\"\n",
        "        self.X_train, self.X_test, self.y_train, self.y_test = train_test_split(\n",
        "            self.images, self.labels,\n",
        "            test_size=(1-train_ratio),\n",
        "            random_state=42, shuffle=True)\n",
        "        self.X_test, self.X_val, self.y_test, self.y_val = train_test_split(\n",
        "            self.X_test, self.y_test, test_size=0.5,\n",
        "            random_state=42, shuffle=True)\n",
        "\n",
        "    def euclidean_distance(self, image: np.array, images: np.array) -> np.array:\n",
        "        \"\"\"\n",
        "        Compute the euclidean distance between the image and the images.\n",
        "\n",
        "        :param image: The image.\n",
        "        :type image: np.array\n",
        "        :param images: The images.\n",
        "        :type images: np.array\n",
        "\n",
        "        :return: The distances.\n",
        "        :rtype: np.array\n",
        "        \"\"\"\n",
        "        return np.sqrt(np.sum((images - image)**2, axis=1))\n",
        "\n",
        "    def k_nearest_neighbor(\n",
        "        self,\n",
        "        new_image: np.array,\n",
        "        train_images: np.array,\n",
        "        train_labels: np.array\n",
        "    ) -> int:\n",
        "        \"\"\"\n",
        "        Compute the k nearest neighbors of the image.\n",
        "\n",
        "        :param new_image: The image.\n",
        "        :type new_image: np.array\n",
        "        :param train_images: The training images.\n",
        "        :type train_images: np.array\n",
        "        :param train_labels: The training labels.\n",
        "        :type train_labels: np.array\n",
        "\n",
        "        :return: The predicted label.\n",
        "        :rtype: int\n",
        "        \"\"\"\n",
        "        distances = self.euclidean_distance(new_image, train_images)\n",
        "        indices = np.argsort(distances)\n",
        "        nearest_neighbors = train_labels[indices[:self.k]]\n",
        "\n",
        "        values, counts = np.unique(nearest_neighbors, return_counts=True)\n",
        "        predicted_label = values[np.argmax(counts)]\n",
        "\n",
        "        return predicted_label\n",
        "\n",
        "    def train(self, train_ratio: float = 0.9) -> None:\n",
        "        \"\"\"\n",
        "        Train the model.\n",
        "\n",
        "        :param train_ratio: The ratio of the training data.\n",
        "        :type train_ratio: float\n",
        "        \"\"\"\n",
        "        self.load_data()\n",
        "        self.preprocess_data()\n",
        "        self.data_loader(train_ratio)\n",
        "\n",
        "    def predict(self, test_images: np.array) -> np.array:\n",
        "        \"\"\"\n",
        "        Predict the labels of the test images.\n",
        "\n",
        "        :param test_images: The test images.\n",
        "        :type test_images: np.array\n",
        "\n",
        "        :return: The predicted labels.\n",
        "        :rtype: np.array\n",
        "        \"\"\"\n",
        "        predictions = np.array([])\n",
        "\n",
        "        for i, image in enumerate(\n",
        "                tqdm.tqdm(test_images, ncols=100, desc=\"Predicting\")):\n",
        "            predicted_label = self.k_nearest_neighbor(\n",
        "                image, self.X_train, self.y_train)\n",
        "            predictions = np.append(predictions, predicted_label)\n",
        "        return predictions\n",
        "\n",
        "    def evaluate(self, y_pred: np.array) -> None:\n",
        "        \"\"\"\n",
        "        Evaluate the model.\n",
        "\n",
        "        :param y_pred: The predicted labels.\n",
        "        :type y_pred: np.array\n",
        "        \"\"\"\n",
        "        print(classification_report(self.y_test,\n",
        "              y_pred, target_names=self.classes))\n",
        "        print('\\n\\n')\n",
        "        disp = ConfusionMatrixDisplay(confusion_matrix=confusion_matrix(\n",
        "            self.y_test, y_pred), display_labels=self.classes)\n",
        "        disp = disp.plot(xticks_rotation=45)\n",
        "        plt.title('Confusion Matrix Test Data')\n",
        "        plt.show()\n",
        "\n",
        "\n",
        "knn = KNNClassifier(k=config[\"model_params\"][\"k\"],\n",
        "                    data_path=config[\"data_params\"][\"data_path\"])\n",
        "\n",
        "knn.train(train_ratio=config[\"data_params\"][\"train_ratio\"])\n",
        "y_pred = knn.predict(knn.X_test)\n",
        "knn.evaluate(y_pred)"
      ]
    }
  ],
  "metadata": {
    "kernelspec": {
      "display_name": "ml",
      "language": "python",
      "name": "python3"
    },
    "language_info": {
      "codemirror_mode": {
        "name": "ipython",
        "version": 3
      },
      "file_extension": ".py",
      "mimetype": "text/x-python",
      "name": "python",
      "nbconvert_exporter": "python",
      "pygments_lexer": "ipython3",
      "version": "3.10.9"
    },
    "colab": {
      "provenance": []
    }
  },
  "nbformat": 4,
  "nbformat_minor": 0
}