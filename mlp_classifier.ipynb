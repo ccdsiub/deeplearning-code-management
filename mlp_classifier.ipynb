{
 "cells": [
  {
   "cell_type": "markdown",
   "metadata": {},
   "source": [
    "#### **Import the required libraries**\n",
    "\n",
    "We will be using a few libraries in this session, import all the required libraries in the cell below one by one as we go through the session.\n"
   ]
  },
  {
   "cell_type": "code",
   "execution_count": null,
   "metadata": {},
   "outputs": [],
   "source": [
    "import os\n",
    "\n",
    "import matplotlib.pyplot as plt\n",
    "import torch\n",
    "import tqdm\n",
    "import yaml\n",
    "from sklearn.metrics import (ConfusionMatrixDisplay, classification_report,\n",
    "                             confusion_matrix)\n",
    "from torchvision import transforms\n",
    "from torchvision.io import read_image"
   ]
  },
  {
   "cell_type": "markdown",
   "metadata": {},
   "source": [
    "#### **Load configuration file**\n",
    "\n",
    "We will be using a configuration file to store all the required parameters for the model. The configuration file is a YAML file, which is a human-readable data serialization standard that can be used in conjunction with all programming languages and is often used to write configuration files. Create a new file named `config.yaml` and add the following content to it.\n",
    "\n",
    "```yaml\n",
    "data_params:\n",
    "  data_path: \"CIFAR-10/\"\n",
    "```\n",
    "\n",
    "Read the configuration file using the `yaml` library and store the data in a variable named `config`.\n"
   ]
  },
  {
   "cell_type": "code",
   "execution_count": 2,
   "metadata": {},
   "outputs": [
    {
     "name": "stdout",
     "output_type": "stream",
     "text": [
      "{'data_params': {'data_path': 'CIFAR-10/', 'train_ratio': 0.8, 'batch_size': 64}, 'model_params': {'input_size': 3072, 'hidden_size': 1024, 'num_classes': 10, 'learning_rate': 0.001, 'weight_decay': 0.0001, 'gamma': 0.1, 'step_size': 5, 'num_epochs': 100}}\n"
     ]
    }
   ],
   "source": [
    "file = open(\"configs/mlp_config.yaml\")\n",
    "config = yaml.safe_load(file)\n",
    "file.close()\n",
    "print(config)"
   ]
  },
  {
   "cell_type": "markdown",
   "metadata": {},
   "source": [
    "#### **Download the dataset**\n",
    "\n",
    "We will be using `CIFAR-10` dataset for this session. The dataset consists of 60,000 32x32 color images in 10 classes, with 6,000 images per class. Please download the dataset using the following command.\n",
    "\n",
    "```python\n",
    "!gdown --id 1XMU5LtlqnBvZS5JkLutG7QCG229Vrp82\n",
    "!unzip -q /content/CIFAR-10.zip -d /content/\n",
    "```\n"
   ]
  },
  {
   "cell_type": "code",
   "execution_count": null,
   "metadata": {},
   "outputs": [],
   "source": [
    "!gdown --id 1XMU5LtlqnBvZS5JkLutG7QCG229Vrp82\n",
    "!unzip -q /content/CIFAR-10.zip -d /content/"
   ]
  },
  {
   "cell_type": "markdown",
   "metadata": {},
   "source": [
    "#### **Load the dataset**\n",
    "\n",
    "Check the files in the side panel to see if the dataset is downloaded successfully. The dataset is organized in the following way.\n",
    "\n",
    "```\n",
    "CIFAR-10\n",
    " |\n",
    " └───airplane\n",
    " |\n",
    " └───automobile\n",
    " |\n",
    " └───bird\n",
    " |\n",
    " └───cat\n",
    " |\n",
    " └───deer\n",
    " |\n",
    " └───dog\n",
    " |\n",
    " └───frog\n",
    " |\n",
    " └───horse\n",
    " |\n",
    " └───ship\n",
    " |\n",
    " └───truck\n",
    "```\n",
    "\n",
    "Write a class named `CIFAR10Dataset` to load the dataset.\n"
   ]
  },
  {
   "cell_type": "code",
   "execution_count": 3,
   "metadata": {},
   "outputs": [],
   "source": [
    "class CIFAR10(torch.utils.data.Dataset):\n",
    "    \"\"\"The CIFAR10 dataset\"\"\"\n",
    "\n",
    "    def __init__(self, root, transform=None, target_transform=None) -> None:\n",
    "        \"\"\"\n",
    "        Initialize the CIFAR10 dataset\n",
    "\n",
    "        :param root: The root directory of the dataset\n",
    "        :type root: str\n",
    "        :param transform: The transform to apply to the data\n",
    "        :type transform: callable\n",
    "        :param target_transform: The transform to apply to the target\n",
    "        :type target_transform: callable\n",
    "\n",
    "        :return: None\n",
    "        :rtype: None\n",
    "        \"\"\"\n",
    "        self.root = root\n",
    "        self.transform = transform\n",
    "        self.target_transform = target_transform\n",
    "        self.data = []\n",
    "        self.targets = []\n",
    "\n",
    "        self._load_data()\n",
    "\n",
    "    def _load_data(self):\n",
    "        \"\"\"\n",
    "        Load the data from the root directory\n",
    "\n",
    "        :return: None\n",
    "        :rtype: None\n",
    "        \"\"\"\n",
    "        # Load the data\n",
    "        for i, class_name in enumerate(os.listdir(self.root)):\n",
    "            class_dir = os.path.join(self.root, class_name)\n",
    "            for image_name in os.listdir(class_dir):\n",
    "                image_path = os.path.join(class_dir, image_name)\n",
    "                image = read_image(image_path)\n",
    "                self.data.append(image)\n",
    "                self.targets.append(float(i))\n",
    "\n",
    "    def __getitem__(self, index: int) -> tuple:\n",
    "        \"\"\"\n",
    "        Get the item at the given index\n",
    "\n",
    "        :param index: The index of the item\n",
    "        :type index: int\n",
    "\n",
    "        :return: The item at the given index\n",
    "        :rtype: tuple\n",
    "        \"\"\"\n",
    "        img, target = self.data[index], self.targets[index]\n",
    "\n",
    "        if self.transform is not None:\n",
    "            img = self.transform(img)\n",
    "\n",
    "        if self.target_transform is not None:\n",
    "            target = self.target_transform(target)\n",
    "\n",
    "        return img, target\n",
    "\n",
    "    def __len__(self) -> int:\n",
    "        \"\"\"\n",
    "        Get the length of the dataset\n",
    "\n",
    "        :return: The length of the dataset\n",
    "        :rtype: int\n",
    "        \"\"\"\n",
    "        return len(self.data)"
   ]
  },
  {
   "cell_type": "markdown",
   "metadata": {},
   "source": [
    "#### **Preprocess transformations**\n",
    "\n",
    "Insted of loading the entire dataset into memory, and then applying transformations, we will be using `torchvision.transforms` to apply transformations while loading the dataset. We will use the following transformations:\n",
    "\n",
    "1. `ToTensor`: Convert the image to a tensor with pixel values in the range [0, 1].\n",
    "2. `Normalize`: Normalize the tensor with mean and standard deviation.\n",
    "3. `Lambda`: To flatten the image tensor.\n"
   ]
  },
  {
   "cell_type": "code",
   "execution_count": 4,
   "metadata": {},
   "outputs": [],
   "source": [
    "transform = transforms.Compose([\n",
    "    transforms.ConvertImageDtype(torch.float32),\n",
    "    transforms.Normalize((0.485, 0.456, 0.406), (0.229, 0.224, 0.225)),\n",
    "    transforms.Lambda(lambda x: x.reshape(-1))\n",
    "])\n",
    "\n",
    "# you can transform the target too if you want (e.g. one hot encode)\n",
    "target_transform = transforms.Lambda(\n",
    "    lambda y: torch.tensor(y, dtype=torch.long))"
   ]
  },
  {
   "cell_type": "markdown",
   "metadata": {},
   "source": [
    "Initialize the `CIFAR10Dataset` class with the `data_path` from the configuration file or you can use `torchvision.Dataset.ImageFolder` to load the dataset. Pass the transformations to the `CIFAR10Dataset` class and load the dataset.\n",
    "You can load the class name from the folder using `os.listdir` for later use.\n"
   ]
  },
  {
   "cell_type": "code",
   "execution_count": 5,
   "metadata": {},
   "outputs": [],
   "source": [
    "data_path = config[\"data_params\"][\"data_path\"]\n",
    "classes = os.listdir(data_path)\n",
    "\n",
    "dataset = CIFAR10(data_path, transform=transform,\n",
    "                  target_transform=target_transform)\n",
    "\n",
    "# dataset = ImageFolder(data_path, transform=transform,\n",
    "#                      target_transform=target_transform)"
   ]
  },
  {
   "cell_type": "markdown",
   "metadata": {},
   "source": [
    "#### **Split the data**\n",
    "\n",
    "Use `torch.utils.data.random_split` to split the dataset into training and validation sets. Use 80% of the data for training and 10% for validation and 10% for testing.\n"
   ]
  },
  {
   "cell_type": "code",
   "execution_count": 6,
   "metadata": {},
   "outputs": [
    {
     "name": "stdout",
     "output_type": "stream",
     "text": [
      "Train size: 48001\n",
      "Test size: 6000\n",
      "Validation size: 5999\n"
     ]
    }
   ],
   "source": [
    "train_size = config[\"data_params\"][\"train_ratio\"]\n",
    "test_size = (1 - train_size) / 2\n",
    "val_size = test_size\n",
    "\n",
    "train_dataset, test_dataset, val_dataset = torch.utils.data.random_split(\n",
    "    dataset, [train_size, test_size, val_size])\n",
    "\n",
    "print(f\"Train size: {len(train_dataset)}\")\n",
    "print(f\"Test size: {len(test_dataset)}\")\n",
    "print(f\"Validation size: {len(val_dataset)}\")"
   ]
  },
  {
   "cell_type": "markdown",
   "metadata": {},
   "source": [
    "#### **Create data loaders**\n",
    "\n",
    "Use `torch.utils.data.DataLoader` to create data loaders for training, validation, and testing datasets. Use a batch size from the configuration file.\n"
   ]
  },
  {
   "cell_type": "code",
   "execution_count": 7,
   "metadata": {},
   "outputs": [],
   "source": [
    "train_loader = torch.utils.data.DataLoader(\n",
    "    train_dataset,\n",
    "    batch_size=config[\"data_params\"][\"batch_size\"],\n",
    "    num_workers=torch.get_num_threads(),\n",
    "    shuffle=True\n",
    ")\n",
    "\n",
    "test_loader = torch.utils.data.DataLoader(\n",
    "    test_dataset,\n",
    "    batch_size=config[\"data_params\"][\"batch_size\"],\n",
    "    num_workers=torch.get_num_threads(),\n",
    "    shuffle=True\n",
    ")\n",
    "\n",
    "val_loader = torch.utils.data.DataLoader(\n",
    "    val_dataset,\n",
    "    batch_size=config[\"data_params\"][\"batch_size\"],\n",
    "    num_workers=torch.get_num_threads(),\n",
    "    shuffle=True\n",
    ")"
   ]
  },
  {
   "cell_type": "markdown",
   "metadata": {},
   "source": [
    "#### **Multi-layer Perceptron (MLP) model**\n",
    "\n",
    "Create a class named `MLP` to define the model architecture. Now, we will create a simple MLP model with 3 layers. The input layer will have 32x32x3 neurons, the hidden layer will have 128 neurons, and the output layer will have 10 neurons.\n"
   ]
  },
  {
   "cell_type": "code",
   "execution_count": 8,
   "metadata": {},
   "outputs": [],
   "source": [
    "class MLPModel(torch.nn.Module):\n",
    "    \"\"\"Multi-layer perceptron model\"\"\"\n",
    "\n",
    "    def __init__(self, input_size: int, hidden_size: int, num_classes: int) -> None:\n",
    "        \"\"\"\n",
    "        Initialize the MLP model\n",
    "\n",
    "        :param input_size: The input size\n",
    "        :type input_size: int\n",
    "        :param hidden_size: The hidden size\n",
    "        :type hidden_size: int\n",
    "        :param num_classes: The number of classes\n",
    "        :type num_classes: int\n",
    "        \"\"\"\n",
    "        super(MLPModel, self).__init__()\n",
    "        self.fc1 = torch.nn.Linear(input_size, hidden_size)\n",
    "        self.relu = torch.nn.ReLU()\n",
    "        self.fc2 = torch.nn.Linear(hidden_size, num_classes)\n",
    "        self.softmax = torch.nn.Softmax(dim=1)\n",
    "\n",
    "    # This part is optional (Weight initialization)\n",
    "    #     self.init_weights()\n",
    "\n",
    "    # def init_weights(self):\n",
    "    #     for m in self.modules():\n",
    "    #         if type(m) == torch.nn.Linear:\n",
    "    #             torch.nn.init.xavier_uniform_(m.weight)\n",
    "    #             m.bias.data.fill_(0.01)\n",
    "\n",
    "    def forward(self, x: torch.Tensor) -> torch.Tensor:\n",
    "        \"\"\"\n",
    "        Forward pass\n",
    "\n",
    "        :param x: The input tensor\n",
    "        :type x: torch.Tensor\n",
    "\n",
    "        :return: The output tensor\n",
    "        :rtype: torch.Tensor\n",
    "        \"\"\"\n",
    "        out = self.fc1(x)\n",
    "        out = self.relu(out)\n",
    "        out = self.fc2(out)\n",
    "        out = self.softmax(out)\n",
    "        return out"
   ]
  },
  {
   "cell_type": "markdown",
   "metadata": {},
   "source": [
    "#### **Initialize the model**\n",
    "\n",
    "Initialize the model and define the loss function, optimizer, and scheduler. Use the loss function as `nn.CrossEntropyLoss`, optimizer as `torch.optim.Adam`, and scheduler as `torch.optim.lr_scheduler.StepLR`. Use the learning rate and step size from the configuration file. Use the device as `cuda` if available, else use `cpu`.\n"
   ]
  },
  {
   "cell_type": "code",
   "execution_count": 9,
   "metadata": {},
   "outputs": [],
   "source": [
    "device = torch.device(\"cuda\" if torch.cuda.is_available() else \"cpu\")\n",
    "\n",
    "model = MLPModel(\n",
    "    input_size=config[\"model_params\"][\"input_size\"],\n",
    "    hidden_size=config[\"model_params\"][\"hidden_size\"],\n",
    "    num_classes=config[\"model_params\"][\"num_classes\"]\n",
    ").to(device)\n",
    "\n",
    "criterion = torch.nn.CrossEntropyLoss()\n",
    "optimizer = torch.optim.Adam(\n",
    "    model.parameters(),\n",
    "    lr=config[\"model_params\"][\"learning_rate\"],\n",
    "    # L2 regularization\n",
    "    weight_decay=config[\"model_params\"][\"weight_decay\"]\n",
    ")\n",
    "scheduler = torch.optim.lr_scheduler.StepLR(\n",
    "    optimizer,\n",
    "    step_size=config[\"model_params\"][\"step_size\"],\n",
    "    gamma=config[\"model_params\"][\"gamma\"]\n",
    ")"
   ]
  },
  {
   "cell_type": "markdown",
   "metadata": {},
   "source": [
    "##### **Validation function**\n",
    "\n",
    "Create a function named `validate` to calculate the accuracy of the model on the validation dataset. Use the `model.eval` method to set the model to evaluation mode and use the `torch.no_grad` context manager to disable gradient calculation. Iterate through the validation data loader and calculate the accuracy of the model.\n"
   ]
  },
  {
   "cell_type": "code",
   "execution_count": 10,
   "metadata": {},
   "outputs": [],
   "source": [
    "def validate(\n",
    "    model,\n",
    "    val_loader: torch.utils.data.DataLoader,\n",
    "    criterion: torch.nn.Module,\n",
    "    device: torch.device\n",
    ") -> tuple:\n",
    "    \"\"\"\n",
    "    Validate the model\n",
    "\n",
    "    :param model: The model to validate\n",
    "    :type model: torch.nn.Module\n",
    "    :param val_loader: The validation loader\n",
    "    :type val_loader: torch.utils.data.DataLoader\n",
    "    :param criterion: The loss function\n",
    "    :type criterion: torch.nn.Module\n",
    "    :param device: The device to use\n",
    "    :type device: torch.device\n",
    "\n",
    "    :return: The loss, accuracy and predictions\n",
    "    :rtype: tuple\n",
    "    \"\"\"\n",
    "    model.eval()\n",
    "    val_loss = 0.0\n",
    "    correct = 0\n",
    "    y_pred = []\n",
    "    with torch.no_grad():\n",
    "        for images, labels in val_loader:\n",
    "            images, labels = images.to(device), labels.to(device)\n",
    "            outputs = model(images)\n",
    "            loss = criterion(outputs, labels)\n",
    "            val_loss += loss.item()\n",
    "            _, predicted = torch.max(outputs, 1)\n",
    "            correct += (predicted == labels).sum().item()\n",
    "            y_pred.extend(predicted.cpu().numpy())\n",
    "\n",
    "    val_loss /= len(val_loader)\n",
    "    accuracy = correct / len(y_pred)\n",
    "\n",
    "    return val_loss, accuracy, y_pred"
   ]
  },
  {
   "cell_type": "markdown",
   "metadata": {},
   "source": [
    "#### **Training function**\n",
    "\n",
    "Write a function named `train` to train the model. Use the `model.train` method to set the model to training mode. Iterate through the training data loader and calculate the loss and accuracy of the model. Use the `optimizer.zero_grad` method to zero the gradients and use the `loss.backward` method to backpropagate the loss. Use the `optimizer.step` method to update the model parameters. Use the `scheduler.step` method to update the learning rate.\n"
   ]
  },
  {
   "cell_type": "code",
   "execution_count": 11,
   "metadata": {},
   "outputs": [],
   "source": [
    "def train(\n",
    "    model: torch.nn.Module,\n",
    "    train_loader: torch.utils.data.DataLoader,\n",
    "    val_loader: torch.utils.data.DataLoader,\n",
    "    criterion: torch.nn.Module,\n",
    "    optimizer: torch.optim.Optimizer,\n",
    "    scheduler: torch.optim.lr_scheduler.StepLR,\n",
    "    device: torch.device,\n",
    "    num_epochs: int\n",
    ") -> tuple:\n",
    "    \"\"\"\n",
    "    Train the model\n",
    "\n",
    "    :param model: The model to train\n",
    "    :type model: torch.nn.Module\n",
    "    :param train_loader: The training loader\n",
    "    :type train_loader: torch.utils.data.DataLoader\n",
    "    :param val_loader: The validation loader\n",
    "    :type val_loader: torch.utils.data.DataLoader\n",
    "    :param criterion: The loss function\n",
    "    :type criterion: torch.nn.Module\n",
    "    :param optimizer: The optimizer\n",
    "    :type optimizer: torch.optim.Optimizer\n",
    "    :param scheduler: The learning rate scheduler\n",
    "    :type scheduler: torch.optim.lr_scheduler.StepLR\n",
    "    :param device: The device to use\n",
    "    :type device: torch.device\n",
    "    :param num_epochs: The number of epochs\n",
    "    :type num_epochs: int\n",
    "\n",
    "    :return: The trained model and the training history\n",
    "    :rtype: tuple\n",
    "    \"\"\"\n",
    "    history = {\n",
    "        \"train_loss\": [],\n",
    "        \"val_loss\": [],\n",
    "        \"val_acc\": []\n",
    "    }\n",
    "    best_acc = 0.0\n",
    "\n",
    "    for epoch in range(num_epochs):\n",
    "        model.train()\n",
    "        train_loss = 0.0\n",
    "        loop = tqdm.tqdm(enumerate(train_loader),\n",
    "                         total=len(train_loader), leave=False)\n",
    "        for i, (images, labels) in loop:\n",
    "            images, labels = images.to(device), labels.to(device)\n",
    "            optimizer.zero_grad()\n",
    "            outputs = model(images)\n",
    "            loss = criterion(outputs, labels)\n",
    "            loss.backward()\n",
    "            optimizer.step()\n",
    "            train_loss += loss.item()\n",
    "\n",
    "            loop.set_description(f\"Epoch [{epoch + 1}/{num_epochs}]\")\n",
    "            loop.set_postfix(loss=train_loss / (i + 1))\n",
    "\n",
    "        train_loss /= len(train_loader)\n",
    "        val_loss, val_acc, _ = validate(model, val_loader, criterion, device)\n",
    "        history[\"train_loss\"].append(train_loss)\n",
    "        history[\"val_loss\"].append(val_loss)\n",
    "        history[\"val_acc\"].append(val_acc)\n",
    "\n",
    "        print(f\"Epoch [{epoch + 1}/{num_epochs}]\")\n",
    "        print(f\"Train loss: {train_loss:.4f}\")\n",
    "        print(f\"Validation loss: {val_loss:.4f}\")\n",
    "        print(f\"Validation accuracy: {val_acc:.2f}%\")\n",
    "\n",
    "        if val_acc > best_acc:\n",
    "            best_acc = val_acc\n",
    "            checkpoint = {\n",
    "                \"epoch\": epoch + 1,\n",
    "                \"model\": model.state_dict(),\n",
    "                \"optimizer\": optimizer.state_dict(),\n",
    "                \"scheduler\": scheduler.state_dict(),\n",
    "                \"history\": history\n",
    "            }\n",
    "            torch.save(checkpoint, \"checkpoint.pth\")\n",
    "\n",
    "        scheduler.step()\n",
    "\n",
    "    return model, history"
   ]
  },
  {
   "cell_type": "markdown",
   "metadata": {},
   "source": [
    "##### **Train the model**\n",
    "\n",
    "Call the `train` function to train the model.\n"
   ]
  },
  {
   "cell_type": "code",
   "execution_count": 12,
   "metadata": {},
   "outputs": [
    {
     "name": "stderr",
     "output_type": "stream",
     "text": [
      "                                                                            \r"
     ]
    },
    {
     "name": "stdout",
     "output_type": "stream",
     "text": [
      "Epoch [1/100]\n",
      "Train loss: 2.2232\n",
      "Validation loss: 2.2158\n",
      "Validation accuracy: 0.24%\n"
     ]
    },
    {
     "name": "stderr",
     "output_type": "stream",
     "text": [
      "                                                                            \r"
     ]
    },
    {
     "name": "stdout",
     "output_type": "stream",
     "text": [
      "Epoch [2/100]\n",
      "Train loss: 2.2158\n",
      "Validation loss: 2.2148\n",
      "Validation accuracy: 0.25%\n"
     ]
    },
    {
     "name": "stderr",
     "output_type": "stream",
     "text": [
      "                                                                            \r"
     ]
    },
    {
     "name": "stdout",
     "output_type": "stream",
     "text": [
      "Epoch [3/100]\n",
      "Train loss: 2.2347\n",
      "Validation loss: 2.1991\n",
      "Validation accuracy: 0.26%\n"
     ]
    },
    {
     "name": "stderr",
     "output_type": "stream",
     "text": [
      "                                                                            \r"
     ]
    },
    {
     "name": "stdout",
     "output_type": "stream",
     "text": [
      "Epoch [4/100]\n",
      "Train loss: 2.2162\n",
      "Validation loss: 2.1950\n",
      "Validation accuracy: 0.27%\n"
     ]
    },
    {
     "name": "stderr",
     "output_type": "stream",
     "text": [
      "                                                                            \r"
     ]
    },
    {
     "name": "stdout",
     "output_type": "stream",
     "text": [
      "Epoch [5/100]\n",
      "Train loss: 2.2244\n",
      "Validation loss: 2.2199\n",
      "Validation accuracy: 0.24%\n"
     ]
    },
    {
     "name": "stderr",
     "output_type": "stream",
     "text": [
      "                                                                            \r"
     ]
    },
    {
     "name": "stdout",
     "output_type": "stream",
     "text": [
      "Epoch [6/100]\n",
      "Train loss: 2.1992\n",
      "Validation loss: 2.1859\n",
      "Validation accuracy: 0.27%\n"
     ]
    },
    {
     "name": "stderr",
     "output_type": "stream",
     "text": [
      "                                                                            \r"
     ]
    },
    {
     "name": "stdout",
     "output_type": "stream",
     "text": [
      "Epoch [7/100]\n",
      "Train loss: 2.1800\n",
      "Validation loss: 2.1740\n",
      "Validation accuracy: 0.29%\n"
     ]
    },
    {
     "name": "stderr",
     "output_type": "stream",
     "text": [
      "                                                                            \r"
     ]
    },
    {
     "name": "stdout",
     "output_type": "stream",
     "text": [
      "Epoch [8/100]\n",
      "Train loss: 2.1727\n",
      "Validation loss: 2.1667\n",
      "Validation accuracy: 0.29%\n"
     ]
    },
    {
     "name": "stderr",
     "output_type": "stream",
     "text": [
      "                                                                            \r"
     ]
    },
    {
     "name": "stdout",
     "output_type": "stream",
     "text": [
      "Epoch [9/100]\n",
      "Train loss: 2.1696\n",
      "Validation loss: 2.1648\n",
      "Validation accuracy: 0.30%\n"
     ]
    },
    {
     "name": "stderr",
     "output_type": "stream",
     "text": [
      "                                                                             \r"
     ]
    },
    {
     "name": "stdout",
     "output_type": "stream",
     "text": [
      "Epoch [10/100]\n",
      "Train loss: 2.1645\n",
      "Validation loss: 2.1588\n",
      "Validation accuracy: 0.30%\n"
     ]
    },
    {
     "name": "stderr",
     "output_type": "stream",
     "text": [
      "                                                                             \r"
     ]
    },
    {
     "name": "stdout",
     "output_type": "stream",
     "text": [
      "Epoch [11/100]\n",
      "Train loss: 2.1611\n",
      "Validation loss: 2.1572\n",
      "Validation accuracy: 0.30%\n"
     ]
    },
    {
     "name": "stderr",
     "output_type": "stream",
     "text": [
      "                                                                             \r"
     ]
    },
    {
     "name": "stdout",
     "output_type": "stream",
     "text": [
      "Epoch [12/100]\n",
      "Train loss: 2.1593\n",
      "Validation loss: 2.1568\n",
      "Validation accuracy: 0.30%\n"
     ]
    },
    {
     "name": "stderr",
     "output_type": "stream",
     "text": [
      "                                                                             \r"
     ]
    },
    {
     "name": "stdout",
     "output_type": "stream",
     "text": [
      "Epoch [13/100]\n",
      "Train loss: 2.1582\n",
      "Validation loss: 2.1576\n",
      "Validation accuracy: 0.30%\n"
     ]
    },
    {
     "name": "stderr",
     "output_type": "stream",
     "text": [
      "                                                                             \r"
     ]
    },
    {
     "name": "stdout",
     "output_type": "stream",
     "text": [
      "Epoch [14/100]\n",
      "Train loss: 2.1572\n",
      "Validation loss: 2.1567\n",
      "Validation accuracy: 0.30%\n"
     ]
    },
    {
     "name": "stderr",
     "output_type": "stream",
     "text": [
      "                                                                             \r"
     ]
    },
    {
     "name": "stdout",
     "output_type": "stream",
     "text": [
      "Epoch [15/100]\n",
      "Train loss: 2.1561\n",
      "Validation loss: 2.1560\n",
      "Validation accuracy: 0.30%\n"
     ]
    },
    {
     "name": "stderr",
     "output_type": "stream",
     "text": [
      "                                                                             \r"
     ]
    },
    {
     "name": "stdout",
     "output_type": "stream",
     "text": [
      "Epoch [16/100]\n",
      "Train loss: 2.1551\n",
      "Validation loss: 2.1557\n",
      "Validation accuracy: 0.30%\n"
     ]
    },
    {
     "name": "stderr",
     "output_type": "stream",
     "text": [
      "                                                                             \r"
     ]
    },
    {
     "name": "stdout",
     "output_type": "stream",
     "text": [
      "Epoch [17/100]\n",
      "Train loss: 2.1535\n",
      "Validation loss: 2.1559\n",
      "Validation accuracy: 0.30%\n"
     ]
    },
    {
     "name": "stderr",
     "output_type": "stream",
     "text": [
      "                                                                             \r"
     ]
    },
    {
     "name": "stdout",
     "output_type": "stream",
     "text": [
      "Epoch [18/100]\n",
      "Train loss: 2.1546\n",
      "Validation loss: 2.1555\n",
      "Validation accuracy: 0.31%\n"
     ]
    },
    {
     "name": "stderr",
     "output_type": "stream",
     "text": [
      "                                                                             \r"
     ]
    },
    {
     "name": "stdout",
     "output_type": "stream",
     "text": [
      "Epoch [19/100]\n",
      "Train loss: 2.1545\n",
      "Validation loss: 2.1556\n",
      "Validation accuracy: 0.30%\n"
     ]
    },
    {
     "name": "stderr",
     "output_type": "stream",
     "text": [
      "                                                                             \r"
     ]
    },
    {
     "name": "stdout",
     "output_type": "stream",
     "text": [
      "Epoch [20/100]\n",
      "Train loss: 2.1530\n",
      "Validation loss: 2.1554\n",
      "Validation accuracy: 0.31%\n"
     ]
    },
    {
     "name": "stderr",
     "output_type": "stream",
     "text": [
      "                                                                             \r"
     ]
    },
    {
     "name": "stdout",
     "output_type": "stream",
     "text": [
      "Epoch [21/100]\n",
      "Train loss: 2.1541\n",
      "Validation loss: 2.1555\n",
      "Validation accuracy: 0.31%\n"
     ]
    },
    {
     "name": "stderr",
     "output_type": "stream",
     "text": [
      "                                                                            \r"
     ]
    },
    {
     "name": "stdout",
     "output_type": "stream",
     "text": [
      "Epoch [22/100]\n",
      "Train loss: 2.1529\n",
      "Validation loss: 2.1553\n",
      "Validation accuracy: 0.31%\n"
     ]
    },
    {
     "name": "stderr",
     "output_type": "stream",
     "text": [
      "                                                                            \r"
     ]
    },
    {
     "name": "stdout",
     "output_type": "stream",
     "text": [
      "Epoch [23/100]\n",
      "Train loss: 2.1541\n",
      "Validation loss: 2.1553\n",
      "Validation accuracy: 0.31%\n"
     ]
    },
    {
     "name": "stderr",
     "output_type": "stream",
     "text": [
      "                                                                            \r"
     ]
    },
    {
     "name": "stdout",
     "output_type": "stream",
     "text": [
      "Epoch [24/100]\n",
      "Train loss: 2.1541\n",
      "Validation loss: 2.1556\n",
      "Validation accuracy: 0.31%\n"
     ]
    },
    {
     "name": "stderr",
     "output_type": "stream",
     "text": [
      "                                                                            \r"
     ]
    },
    {
     "name": "stdout",
     "output_type": "stream",
     "text": [
      "Epoch [25/100]\n",
      "Train loss: 2.1541\n",
      "Validation loss: 2.1553\n",
      "Validation accuracy: 0.31%\n"
     ]
    },
    {
     "name": "stderr",
     "output_type": "stream",
     "text": [
      "                                                                            \r"
     ]
    },
    {
     "name": "stdout",
     "output_type": "stream",
     "text": [
      "Epoch [26/100]\n",
      "Train loss: 2.1541\n",
      "Validation loss: 2.1552\n",
      "Validation accuracy: 0.31%\n"
     ]
    },
    {
     "name": "stderr",
     "output_type": "stream",
     "text": [
      "                                                                            \r"
     ]
    },
    {
     "name": "stdout",
     "output_type": "stream",
     "text": [
      "Epoch [27/100]\n",
      "Train loss: 2.1541\n",
      "Validation loss: 2.1552\n",
      "Validation accuracy: 0.31%\n"
     ]
    },
    {
     "name": "stderr",
     "output_type": "stream",
     "text": [
      "                                                                            \r"
     ]
    },
    {
     "name": "stdout",
     "output_type": "stream",
     "text": [
      "Epoch [28/100]\n",
      "Train loss: 2.1528\n",
      "Validation loss: 2.1554\n",
      "Validation accuracy: 0.31%\n"
     ]
    },
    {
     "name": "stderr",
     "output_type": "stream",
     "text": [
      "                                                                            \r"
     ]
    },
    {
     "name": "stdout",
     "output_type": "stream",
     "text": [
      "Epoch [29/100]\n",
      "Train loss: 2.1528\n",
      "Validation loss: 2.1556\n",
      "Validation accuracy: 0.31%\n"
     ]
    },
    {
     "name": "stderr",
     "output_type": "stream",
     "text": [
      "                                                                            \r"
     ]
    },
    {
     "name": "stdout",
     "output_type": "stream",
     "text": [
      "Epoch [30/100]\n",
      "Train loss: 2.1528\n",
      "Validation loss: 2.1553\n",
      "Validation accuracy: 0.31%\n"
     ]
    },
    {
     "name": "stderr",
     "output_type": "stream",
     "text": [
      "                                                                            \r"
     ]
    },
    {
     "name": "stdout",
     "output_type": "stream",
     "text": [
      "Epoch [31/100]\n",
      "Train loss: 2.1541\n",
      "Validation loss: 2.1552\n",
      "Validation accuracy: 0.31%\n"
     ]
    },
    {
     "name": "stderr",
     "output_type": "stream",
     "text": [
      "                                                                            \r"
     ]
    },
    {
     "name": "stdout",
     "output_type": "stream",
     "text": [
      "Epoch [32/100]\n",
      "Train loss: 2.1541\n",
      "Validation loss: 2.1557\n",
      "Validation accuracy: 0.31%\n"
     ]
    },
    {
     "name": "stderr",
     "output_type": "stream",
     "text": [
      "                                                                            \r"
     ]
    },
    {
     "name": "stdout",
     "output_type": "stream",
     "text": [
      "Epoch [33/100]\n",
      "Train loss: 2.1541\n",
      "Validation loss: 2.1550\n",
      "Validation accuracy: 0.31%\n"
     ]
    },
    {
     "name": "stderr",
     "output_type": "stream",
     "text": [
      "                                                                            \r"
     ]
    },
    {
     "name": "stdout",
     "output_type": "stream",
     "text": [
      "Epoch [34/100]\n",
      "Train loss: 2.1528\n",
      "Validation loss: 2.1550\n",
      "Validation accuracy: 0.31%\n"
     ]
    },
    {
     "name": "stderr",
     "output_type": "stream",
     "text": [
      "                                                                            \r"
     ]
    },
    {
     "name": "stdout",
     "output_type": "stream",
     "text": [
      "Epoch [35/100]\n",
      "Train loss: 2.1528\n",
      "Validation loss: 2.1553\n",
      "Validation accuracy: 0.31%\n"
     ]
    },
    {
     "name": "stderr",
     "output_type": "stream",
     "text": [
      "                                                                            \r"
     ]
    },
    {
     "name": "stdout",
     "output_type": "stream",
     "text": [
      "Epoch [36/100]\n",
      "Train loss: 2.1528\n",
      "Validation loss: 2.1555\n",
      "Validation accuracy: 0.31%\n"
     ]
    },
    {
     "name": "stderr",
     "output_type": "stream",
     "text": [
      "                                                                            \r"
     ]
    },
    {
     "name": "stdout",
     "output_type": "stream",
     "text": [
      "Epoch [37/100]\n",
      "Train loss: 2.1541\n",
      "Validation loss: 2.1555\n",
      "Validation accuracy: 0.31%\n"
     ]
    },
    {
     "name": "stderr",
     "output_type": "stream",
     "text": [
      "                                                                            \r"
     ]
    },
    {
     "name": "stdout",
     "output_type": "stream",
     "text": [
      "Epoch [38/100]\n",
      "Train loss: 2.1528\n",
      "Validation loss: 2.1553\n",
      "Validation accuracy: 0.31%\n"
     ]
    },
    {
     "name": "stderr",
     "output_type": "stream",
     "text": [
      "                                                                            \r"
     ]
    },
    {
     "name": "stdout",
     "output_type": "stream",
     "text": [
      "Epoch [39/100]\n",
      "Train loss: 2.1541\n",
      "Validation loss: 2.1557\n",
      "Validation accuracy: 0.31%\n"
     ]
    },
    {
     "name": "stderr",
     "output_type": "stream",
     "text": [
      "                                                                            \r"
     ]
    },
    {
     "name": "stdout",
     "output_type": "stream",
     "text": [
      "Epoch [40/100]\n",
      "Train loss: 2.1541\n",
      "Validation loss: 2.1553\n",
      "Validation accuracy: 0.31%\n"
     ]
    },
    {
     "name": "stderr",
     "output_type": "stream",
     "text": [
      "                                                                            \r"
     ]
    },
    {
     "name": "stdout",
     "output_type": "stream",
     "text": [
      "Epoch [41/100]\n",
      "Train loss: 2.1541\n",
      "Validation loss: 2.1556\n",
      "Validation accuracy: 0.31%\n"
     ]
    },
    {
     "name": "stderr",
     "output_type": "stream",
     "text": [
      "                                                                            \r"
     ]
    },
    {
     "name": "stdout",
     "output_type": "stream",
     "text": [
      "Epoch [42/100]\n",
      "Train loss: 2.1528\n",
      "Validation loss: 2.1552\n",
      "Validation accuracy: 0.31%\n"
     ]
    },
    {
     "name": "stderr",
     "output_type": "stream",
     "text": [
      "                                                                            \r"
     ]
    },
    {
     "name": "stdout",
     "output_type": "stream",
     "text": [
      "Epoch [43/100]\n",
      "Train loss: 2.1528\n",
      "Validation loss: 2.1552\n",
      "Validation accuracy: 0.31%\n"
     ]
    },
    {
     "name": "stderr",
     "output_type": "stream",
     "text": [
      "                                                                            \r"
     ]
    },
    {
     "name": "stdout",
     "output_type": "stream",
     "text": [
      "Epoch [44/100]\n",
      "Train loss: 2.1541\n",
      "Validation loss: 2.1556\n",
      "Validation accuracy: 0.31%\n"
     ]
    },
    {
     "name": "stderr",
     "output_type": "stream",
     "text": [
      "                                                                            \r"
     ]
    },
    {
     "name": "stdout",
     "output_type": "stream",
     "text": [
      "Epoch [45/100]\n",
      "Train loss: 2.1541\n",
      "Validation loss: 2.1555\n",
      "Validation accuracy: 0.31%\n"
     ]
    },
    {
     "name": "stderr",
     "output_type": "stream",
     "text": [
      "                                                                            \r"
     ]
    },
    {
     "name": "stdout",
     "output_type": "stream",
     "text": [
      "Epoch [46/100]\n",
      "Train loss: 2.1541\n",
      "Validation loss: 2.1553\n",
      "Validation accuracy: 0.31%\n"
     ]
    },
    {
     "name": "stderr",
     "output_type": "stream",
     "text": [
      "                                                                            \r"
     ]
    },
    {
     "name": "stdout",
     "output_type": "stream",
     "text": [
      "Epoch [47/100]\n",
      "Train loss: 2.1541\n",
      "Validation loss: 2.1553\n",
      "Validation accuracy: 0.31%\n"
     ]
    },
    {
     "name": "stderr",
     "output_type": "stream",
     "text": [
      "                                                                            \r"
     ]
    },
    {
     "name": "stdout",
     "output_type": "stream",
     "text": [
      "Epoch [48/100]\n",
      "Train loss: 2.1531\n",
      "Validation loss: 2.1550\n",
      "Validation accuracy: 0.31%\n"
     ]
    },
    {
     "name": "stderr",
     "output_type": "stream",
     "text": [
      "                                                                            \r"
     ]
    },
    {
     "name": "stdout",
     "output_type": "stream",
     "text": [
      "Epoch [49/100]\n",
      "Train loss: 2.1541\n",
      "Validation loss: 2.1557\n",
      "Validation accuracy: 0.31%\n"
     ]
    },
    {
     "name": "stderr",
     "output_type": "stream",
     "text": [
      "                                                                            \r"
     ]
    },
    {
     "name": "stdout",
     "output_type": "stream",
     "text": [
      "Epoch [50/100]\n",
      "Train loss: 2.1540\n",
      "Validation loss: 2.1555\n",
      "Validation accuracy: 0.31%\n"
     ]
    },
    {
     "name": "stderr",
     "output_type": "stream",
     "text": [
      "                                                                            \r"
     ]
    },
    {
     "name": "stdout",
     "output_type": "stream",
     "text": [
      "Epoch [51/100]\n",
      "Train loss: 2.1541\n",
      "Validation loss: 2.1556\n",
      "Validation accuracy: 0.31%\n"
     ]
    },
    {
     "name": "stderr",
     "output_type": "stream",
     "text": [
      "                                                                            \r"
     ]
    },
    {
     "name": "stdout",
     "output_type": "stream",
     "text": [
      "Epoch [52/100]\n",
      "Train loss: 2.1541\n",
      "Validation loss: 2.1554\n",
      "Validation accuracy: 0.31%\n"
     ]
    },
    {
     "name": "stderr",
     "output_type": "stream",
     "text": [
      "                                                                            \r"
     ]
    },
    {
     "name": "stdout",
     "output_type": "stream",
     "text": [
      "Epoch [53/100]\n",
      "Train loss: 2.1541\n",
      "Validation loss: 2.1553\n",
      "Validation accuracy: 0.31%\n"
     ]
    },
    {
     "name": "stderr",
     "output_type": "stream",
     "text": [
      "                                                                            \r"
     ]
    },
    {
     "name": "stdout",
     "output_type": "stream",
     "text": [
      "Epoch [54/100]\n",
      "Train loss: 2.1541\n",
      "Validation loss: 2.1555\n",
      "Validation accuracy: 0.31%\n"
     ]
    },
    {
     "name": "stderr",
     "output_type": "stream",
     "text": [
      "                                                                            \r"
     ]
    },
    {
     "name": "stdout",
     "output_type": "stream",
     "text": [
      "Epoch [55/100]\n",
      "Train loss: 2.1528\n",
      "Validation loss: 2.1557\n",
      "Validation accuracy: 0.31%\n"
     ]
    },
    {
     "name": "stderr",
     "output_type": "stream",
     "text": [
      "                                                                            \r"
     ]
    },
    {
     "name": "stdout",
     "output_type": "stream",
     "text": [
      "Epoch [56/100]\n",
      "Train loss: 2.1528\n",
      "Validation loss: 2.1555\n",
      "Validation accuracy: 0.31%\n"
     ]
    },
    {
     "name": "stderr",
     "output_type": "stream",
     "text": [
      "                                                                            \r"
     ]
    },
    {
     "name": "stdout",
     "output_type": "stream",
     "text": [
      "Epoch [57/100]\n",
      "Train loss: 2.1541\n",
      "Validation loss: 2.1557\n",
      "Validation accuracy: 0.31%\n"
     ]
    },
    {
     "name": "stderr",
     "output_type": "stream",
     "text": [
      "                                                                            \r"
     ]
    },
    {
     "name": "stdout",
     "output_type": "stream",
     "text": [
      "Epoch [58/100]\n",
      "Train loss: 2.1541\n",
      "Validation loss: 2.1555\n",
      "Validation accuracy: 0.31%\n"
     ]
    },
    {
     "name": "stderr",
     "output_type": "stream",
     "text": [
      "                                                                            \r"
     ]
    },
    {
     "name": "stdout",
     "output_type": "stream",
     "text": [
      "Epoch [59/100]\n",
      "Train loss: 2.1541\n",
      "Validation loss: 2.1555\n",
      "Validation accuracy: 0.31%\n"
     ]
    },
    {
     "name": "stderr",
     "output_type": "stream",
     "text": [
      "                                                                            \r"
     ]
    },
    {
     "name": "stdout",
     "output_type": "stream",
     "text": [
      "Epoch [60/100]\n",
      "Train loss: 2.1541\n",
      "Validation loss: 2.1557\n",
      "Validation accuracy: 0.31%\n"
     ]
    },
    {
     "name": "stderr",
     "output_type": "stream",
     "text": [
      "                                                                            \r"
     ]
    },
    {
     "name": "stdout",
     "output_type": "stream",
     "text": [
      "Epoch [61/100]\n",
      "Train loss: 2.1541\n",
      "Validation loss: 2.1552\n",
      "Validation accuracy: 0.31%\n"
     ]
    },
    {
     "name": "stderr",
     "output_type": "stream",
     "text": [
      "                                                                            \r"
     ]
    },
    {
     "name": "stdout",
     "output_type": "stream",
     "text": [
      "Epoch [62/100]\n",
      "Train loss: 2.1541\n",
      "Validation loss: 2.1552\n",
      "Validation accuracy: 0.31%\n"
     ]
    },
    {
     "name": "stderr",
     "output_type": "stream",
     "text": [
      "                                                                            \r"
     ]
    },
    {
     "name": "stdout",
     "output_type": "stream",
     "text": [
      "Epoch [63/100]\n",
      "Train loss: 2.1541\n",
      "Validation loss: 2.1555\n",
      "Validation accuracy: 0.31%\n"
     ]
    },
    {
     "name": "stderr",
     "output_type": "stream",
     "text": [
      "                                                                            \r"
     ]
    },
    {
     "name": "stdout",
     "output_type": "stream",
     "text": [
      "Epoch [64/100]\n",
      "Train loss: 2.1541\n",
      "Validation loss: 2.1552\n",
      "Validation accuracy: 0.31%\n"
     ]
    },
    {
     "name": "stderr",
     "output_type": "stream",
     "text": [
      "                                                                            \r"
     ]
    },
    {
     "name": "stdout",
     "output_type": "stream",
     "text": [
      "Epoch [65/100]\n",
      "Train loss: 2.1541\n",
      "Validation loss: 2.1552\n",
      "Validation accuracy: 0.31%\n"
     ]
    },
    {
     "name": "stderr",
     "output_type": "stream",
     "text": [
      "                                                                            \r"
     ]
    },
    {
     "name": "stdout",
     "output_type": "stream",
     "text": [
      "Epoch [66/100]\n",
      "Train loss: 2.1528\n",
      "Validation loss: 2.1555\n",
      "Validation accuracy: 0.31%\n"
     ]
    },
    {
     "name": "stderr",
     "output_type": "stream",
     "text": [
      "                                                                            \r"
     ]
    },
    {
     "name": "stdout",
     "output_type": "stream",
     "text": [
      "Epoch [67/100]\n",
      "Train loss: 2.1541\n",
      "Validation loss: 2.1556\n",
      "Validation accuracy: 0.31%\n"
     ]
    },
    {
     "name": "stderr",
     "output_type": "stream",
     "text": [
      "                                                                            \r"
     ]
    },
    {
     "name": "stdout",
     "output_type": "stream",
     "text": [
      "Epoch [68/100]\n",
      "Train loss: 2.1541\n",
      "Validation loss: 2.1552\n",
      "Validation accuracy: 0.31%\n"
     ]
    },
    {
     "name": "stderr",
     "output_type": "stream",
     "text": [
      "                                                                            \r"
     ]
    },
    {
     "name": "stdout",
     "output_type": "stream",
     "text": [
      "Epoch [69/100]\n",
      "Train loss: 2.1541\n",
      "Validation loss: 2.1557\n",
      "Validation accuracy: 0.31%\n"
     ]
    },
    {
     "name": "stderr",
     "output_type": "stream",
     "text": [
      "                                                                            \r"
     ]
    },
    {
     "name": "stdout",
     "output_type": "stream",
     "text": [
      "Epoch [70/100]\n",
      "Train loss: 2.1541\n",
      "Validation loss: 2.1554\n",
      "Validation accuracy: 0.31%\n"
     ]
    },
    {
     "name": "stderr",
     "output_type": "stream",
     "text": [
      "                                                                            \r"
     ]
    },
    {
     "name": "stdout",
     "output_type": "stream",
     "text": [
      "Epoch [71/100]\n",
      "Train loss: 2.1541\n",
      "Validation loss: 2.1556\n",
      "Validation accuracy: 0.31%\n"
     ]
    },
    {
     "name": "stderr",
     "output_type": "stream",
     "text": [
      "                                                                            \r"
     ]
    },
    {
     "name": "stdout",
     "output_type": "stream",
     "text": [
      "Epoch [72/100]\n",
      "Train loss: 2.1541\n",
      "Validation loss: 2.1555\n",
      "Validation accuracy: 0.31%\n"
     ]
    },
    {
     "name": "stderr",
     "output_type": "stream",
     "text": [
      "                                                                            \r"
     ]
    },
    {
     "name": "stdout",
     "output_type": "stream",
     "text": [
      "Epoch [73/100]\n",
      "Train loss: 2.1528\n",
      "Validation loss: 2.1552\n",
      "Validation accuracy: 0.31%\n"
     ]
    },
    {
     "name": "stderr",
     "output_type": "stream",
     "text": [
      "                                                                            \r"
     ]
    },
    {
     "name": "stdout",
     "output_type": "stream",
     "text": [
      "Epoch [74/100]\n",
      "Train loss: 2.1541\n",
      "Validation loss: 2.1552\n",
      "Validation accuracy: 0.31%\n"
     ]
    },
    {
     "name": "stderr",
     "output_type": "stream",
     "text": [
      "                                                                            \r"
     ]
    },
    {
     "name": "stdout",
     "output_type": "stream",
     "text": [
      "Epoch [75/100]\n",
      "Train loss: 2.1528\n",
      "Validation loss: 2.1555\n",
      "Validation accuracy: 0.31%\n"
     ]
    },
    {
     "name": "stderr",
     "output_type": "stream",
     "text": [
      "                                                                            \r"
     ]
    },
    {
     "name": "stdout",
     "output_type": "stream",
     "text": [
      "Epoch [76/100]\n",
      "Train loss: 2.1541\n",
      "Validation loss: 2.1553\n",
      "Validation accuracy: 0.31%\n"
     ]
    },
    {
     "name": "stderr",
     "output_type": "stream",
     "text": [
      "                                                                            \r"
     ]
    },
    {
     "name": "stdout",
     "output_type": "stream",
     "text": [
      "Epoch [77/100]\n",
      "Train loss: 2.1541\n",
      "Validation loss: 2.1555\n",
      "Validation accuracy: 0.31%\n"
     ]
    },
    {
     "name": "stderr",
     "output_type": "stream",
     "text": [
      "                                                                            \r"
     ]
    },
    {
     "name": "stdout",
     "output_type": "stream",
     "text": [
      "Epoch [78/100]\n",
      "Train loss: 2.1541\n",
      "Validation loss: 2.1553\n",
      "Validation accuracy: 0.31%\n"
     ]
    },
    {
     "name": "stderr",
     "output_type": "stream",
     "text": [
      "                                                                            \r"
     ]
    },
    {
     "name": "stdout",
     "output_type": "stream",
     "text": [
      "Epoch [79/100]\n",
      "Train loss: 2.1528\n",
      "Validation loss: 2.1554\n",
      "Validation accuracy: 0.31%\n"
     ]
    },
    {
     "name": "stderr",
     "output_type": "stream",
     "text": [
      "                                                                            \r"
     ]
    },
    {
     "name": "stdout",
     "output_type": "stream",
     "text": [
      "Epoch [80/100]\n",
      "Train loss: 2.1528\n",
      "Validation loss: 2.1553\n",
      "Validation accuracy: 0.31%\n"
     ]
    },
    {
     "name": "stderr",
     "output_type": "stream",
     "text": [
      "                                                                            \r"
     ]
    },
    {
     "name": "stdout",
     "output_type": "stream",
     "text": [
      "Epoch [81/100]\n",
      "Train loss: 2.1541\n",
      "Validation loss: 2.1554\n",
      "Validation accuracy: 0.31%\n"
     ]
    },
    {
     "name": "stderr",
     "output_type": "stream",
     "text": [
      "                                                                            \r"
     ]
    },
    {
     "name": "stdout",
     "output_type": "stream",
     "text": [
      "Epoch [82/100]\n",
      "Train loss: 2.1541\n",
      "Validation loss: 2.1556\n",
      "Validation accuracy: 0.31%\n"
     ]
    },
    {
     "name": "stderr",
     "output_type": "stream",
     "text": [
      "                                                                            \r"
     ]
    },
    {
     "name": "stdout",
     "output_type": "stream",
     "text": [
      "Epoch [83/100]\n",
      "Train loss: 2.1528\n",
      "Validation loss: 2.1554\n",
      "Validation accuracy: 0.31%\n"
     ]
    },
    {
     "name": "stderr",
     "output_type": "stream",
     "text": [
      "                                                                            \r"
     ]
    },
    {
     "name": "stdout",
     "output_type": "stream",
     "text": [
      "Epoch [84/100]\n",
      "Train loss: 2.1541\n",
      "Validation loss: 2.1553\n",
      "Validation accuracy: 0.31%\n"
     ]
    },
    {
     "name": "stderr",
     "output_type": "stream",
     "text": [
      "                                                                            \r"
     ]
    },
    {
     "name": "stdout",
     "output_type": "stream",
     "text": [
      "Epoch [85/100]\n",
      "Train loss: 2.1528\n",
      "Validation loss: 2.1552\n",
      "Validation accuracy: 0.31%\n"
     ]
    },
    {
     "name": "stderr",
     "output_type": "stream",
     "text": [
      "                                                                            \r"
     ]
    },
    {
     "name": "stdout",
     "output_type": "stream",
     "text": [
      "Epoch [86/100]\n",
      "Train loss: 2.1541\n",
      "Validation loss: 2.1550\n",
      "Validation accuracy: 0.31%\n"
     ]
    },
    {
     "name": "stderr",
     "output_type": "stream",
     "text": [
      "                                                                            \r"
     ]
    },
    {
     "name": "stdout",
     "output_type": "stream",
     "text": [
      "Epoch [87/100]\n",
      "Train loss: 2.1541\n",
      "Validation loss: 2.1554\n",
      "Validation accuracy: 0.31%\n"
     ]
    },
    {
     "name": "stderr",
     "output_type": "stream",
     "text": [
      "                                                                            \r"
     ]
    },
    {
     "name": "stdout",
     "output_type": "stream",
     "text": [
      "Epoch [88/100]\n",
      "Train loss: 2.1528\n",
      "Validation loss: 2.1556\n",
      "Validation accuracy: 0.31%\n"
     ]
    },
    {
     "name": "stderr",
     "output_type": "stream",
     "text": [
      "                                                                            \r"
     ]
    },
    {
     "name": "stdout",
     "output_type": "stream",
     "text": [
      "Epoch [89/100]\n",
      "Train loss: 2.1528\n",
      "Validation loss: 2.1553\n",
      "Validation accuracy: 0.31%\n"
     ]
    },
    {
     "name": "stderr",
     "output_type": "stream",
     "text": [
      "                                                                            \r"
     ]
    },
    {
     "name": "stdout",
     "output_type": "stream",
     "text": [
      "Epoch [90/100]\n",
      "Train loss: 2.1528\n",
      "Validation loss: 2.1555\n",
      "Validation accuracy: 0.31%\n"
     ]
    },
    {
     "name": "stderr",
     "output_type": "stream",
     "text": [
      "                                                                            \r"
     ]
    },
    {
     "name": "stdout",
     "output_type": "stream",
     "text": [
      "Epoch [91/100]\n",
      "Train loss: 2.1528\n",
      "Validation loss: 2.1550\n",
      "Validation accuracy: 0.31%\n"
     ]
    },
    {
     "name": "stderr",
     "output_type": "stream",
     "text": [
      "                                                                            \r"
     ]
    },
    {
     "name": "stdout",
     "output_type": "stream",
     "text": [
      "Epoch [92/100]\n",
      "Train loss: 2.1540\n",
      "Validation loss: 2.1552\n",
      "Validation accuracy: 0.31%\n"
     ]
    },
    {
     "name": "stderr",
     "output_type": "stream",
     "text": [
      "                                                                            \r"
     ]
    },
    {
     "name": "stdout",
     "output_type": "stream",
     "text": [
      "Epoch [93/100]\n",
      "Train loss: 2.1528\n",
      "Validation loss: 2.1553\n",
      "Validation accuracy: 0.31%\n"
     ]
    },
    {
     "name": "stderr",
     "output_type": "stream",
     "text": [
      "                                                                            \r"
     ]
    },
    {
     "name": "stdout",
     "output_type": "stream",
     "text": [
      "Epoch [94/100]\n",
      "Train loss: 2.1541\n",
      "Validation loss: 2.1555\n",
      "Validation accuracy: 0.31%\n"
     ]
    },
    {
     "name": "stderr",
     "output_type": "stream",
     "text": [
      "                                                                            \r"
     ]
    },
    {
     "name": "stdout",
     "output_type": "stream",
     "text": [
      "Epoch [95/100]\n",
      "Train loss: 2.1541\n",
      "Validation loss: 2.1555\n",
      "Validation accuracy: 0.31%\n"
     ]
    },
    {
     "name": "stderr",
     "output_type": "stream",
     "text": [
      "                                                                            \r"
     ]
    },
    {
     "name": "stdout",
     "output_type": "stream",
     "text": [
      "Epoch [96/100]\n",
      "Train loss: 2.1541\n",
      "Validation loss: 2.1554\n",
      "Validation accuracy: 0.31%\n"
     ]
    },
    {
     "name": "stderr",
     "output_type": "stream",
     "text": [
      "                                                                            \r"
     ]
    },
    {
     "name": "stdout",
     "output_type": "stream",
     "text": [
      "Epoch [97/100]\n",
      "Train loss: 2.1541\n",
      "Validation loss: 2.1558\n",
      "Validation accuracy: 0.31%\n"
     ]
    },
    {
     "name": "stderr",
     "output_type": "stream",
     "text": [
      "                                                                            \r"
     ]
    },
    {
     "name": "stdout",
     "output_type": "stream",
     "text": [
      "Epoch [98/100]\n",
      "Train loss: 2.1541\n",
      "Validation loss: 2.1553\n",
      "Validation accuracy: 0.31%\n"
     ]
    },
    {
     "name": "stderr",
     "output_type": "stream",
     "text": [
      "                                                                            \r"
     ]
    },
    {
     "name": "stdout",
     "output_type": "stream",
     "text": [
      "Epoch [99/100]\n",
      "Train loss: 2.1528\n",
      "Validation loss: 2.1555\n",
      "Validation accuracy: 0.31%\n"
     ]
    },
    {
     "name": "stderr",
     "output_type": "stream",
     "text": [
      "                                                                             \r"
     ]
    },
    {
     "name": "stdout",
     "output_type": "stream",
     "text": [
      "Epoch [100/100]\n",
      "Train loss: 2.1541\n",
      "Validation loss: 2.1553\n",
      "Validation accuracy: 0.31%\n"
     ]
    }
   ],
   "source": [
    "model, history = train(\n",
    "    model,\n",
    "    train_loader,\n",
    "    val_loader,\n",
    "    criterion,\n",
    "    optimizer,\n",
    "    scheduler,\n",
    "    device,\n",
    "    num_epochs=config[\"model_params\"][\"num_epochs\"]\n",
    ")"
   ]
  },
  {
   "cell_type": "markdown",
   "metadata": {},
   "source": [
    "#### **Plot the learning curve**\n",
    "\n",
    "Plot the training loss and validation loss using `matplotlib`, keep both the training loss and validation loss in the same plot.\n"
   ]
  },
  {
   "cell_type": "code",
   "execution_count": 13,
   "metadata": {},
   "outputs": [
    {
     "data": {
      "image/png": "[encoded data removed]",
      "text/plain": [
       "<Figure size 640x480 with 1 Axes>"
      ]
     },
     "metadata": {},
     "output_type": "display_data"
    }
   ],
   "source": [
    "plt.plot(history[\"train_loss\"], label=\"Train loss\")\n",
    "plt.plot(history[\"val_loss\"], label=\"Validation loss\")\n",
    "plt.title(\"Loss curve\")\n",
    "plt.xlabel(\"Epoch\")\n",
    "plt.ylabel(\"Loss\")\n",
    "plt.legend()\n",
    "plt.show()"
   ]
  },
  {
   "cell_type": "markdown",
   "metadata": {},
   "source": [
    "#### **Load the model from the checkpoint**\n",
    "\n",
    "Use `torch.load` to load the model from the checkpoint and use the `model.load_state_dict` method to load the model weights.\n"
   ]
  },
  {
   "cell_type": "code",
   "execution_count": 14,
   "metadata": {},
   "outputs": [
    {
     "data": {
      "text/plain": [
       "<All keys matched successfully>"
      ]
     },
     "execution_count": 14,
     "metadata": {},
     "output_type": "execute_result"
    }
   ],
   "source": [
    "model.load_state_dict(torch.load(\"checkpoint.pth\")[\"model\"])"
   ]
  },
  {
   "cell_type": "markdown",
   "metadata": {},
   "source": [
    "#### **Evaluate model performance**\n",
    "\n",
    "Now, we have trained the model. Call the `validate` function to validate the model and calculate the loss and predicted labels on the testing data.\n",
    "\n",
    "1. Use scikit-learn's `classification_report` function to evaluate the performance of the model. The `classification_report` function takes two inputs, `test_labels` and `predicted_labels`, and returns a report of the precision, recall, and F1-score of the model.\n",
    "2. Use the `confusion_matrix` function to get the confusion matrix of the model. It also takes two inputs, `test_labels` and `predicted_labels`, and returns the confusion matrix of the model. Use `ConfusionMatrixDisplay` to display the confusion matrix.\n"
   ]
  },
  {
   "cell_type": "code",
   "execution_count": 21,
   "metadata": {},
   "outputs": [
    {
     "data": {
      "image/png": "[encoded data removed]",
      "text/plain": [
       "<Figure size 640x480 with 2 Axes>"
      ]
     },
     "metadata": {},
     "output_type": "display_data"
    },
    {
     "name": "stdout",
     "output_type": "stream",
     "text": [
      "\n",
      "\n",
      "\n",
      "              precision    recall  f1-score   support\n",
      "\n",
      "    airplane       0.10      0.19      0.13       593\n",
      "        ship       0.00      0.00      0.00       596\n",
      "         dog       0.11      0.14      0.12       591\n",
      "  automobile       0.10      0.25      0.14       590\n",
      "         cat       0.00      0.00      0.00       615\n",
      "        frog       0.11      0.25      0.15       616\n",
      "       truck       0.00      0.00      0.00       589\n",
      "        bird       0.00      0.00      0.00       611\n",
      "       horse       0.10      0.19      0.13       607\n",
      "        deer       0.08      0.01      0.02       592\n",
      "\n",
      "    accuracy                           0.10      6000\n",
      "   macro avg       0.06      0.10      0.07      6000\n",
      "weighted avg       0.06      0.10      0.07      6000\n",
      "\n"
     ]
    },
    {
     "name": "stderr",
     "output_type": "stream",
     "text": [
      "/home/mirsazzathossain/anaconda3/envs/ml/lib/python3.10/site-packages/sklearn/metrics/_classification.py:1344: UndefinedMetricWarning: Precision and F-score are ill-defined and being set to 0.0 in labels with no predicted samples. Use `zero_division` parameter to control this behavior.\n",
      "  _warn_prf(average, modifier, msg_start, len(result))\n",
      "/home/mirsazzathossain/anaconda3/envs/ml/lib/python3.10/site-packages/sklearn/metrics/_classification.py:1344: UndefinedMetricWarning: Precision and F-score are ill-defined and being set to 0.0 in labels with no predicted samples. Use `zero_division` parameter to control this behavior.\n",
      "  _warn_prf(average, modifier, msg_start, len(result))\n",
      "/home/mirsazzathossain/anaconda3/envs/ml/lib/python3.10/site-packages/sklearn/metrics/_classification.py:1344: UndefinedMetricWarning: Precision and F-score are ill-defined and being set to 0.0 in labels with no predicted samples. Use `zero_division` parameter to control this behavior.\n",
      "  _warn_prf(average, modifier, msg_start, len(result))\n"
     ]
    }
   ],
   "source": [
    "_, _, y_pred = validate(model, test_loader, criterion, device)\n",
    "y_test = [labels for _, labels in test_loader]\n",
    "y_test = torch.cat(y_test).numpy()\n",
    "\n",
    "disp = ConfusionMatrixDisplay(confusion_matrix=confusion_matrix(\n",
    "    y_test, y_pred), display_labels=classes)\n",
    "disp = disp.plot(xticks_rotation=45)\n",
    "plt.title('Confusion Matrix Test Data')\n",
    "plt.show()\n",
    "\n",
    "print('\\n\\n')\n",
    "print(classification_report(y_test, y_pred, target_names=classes))"
   ]
  }
 ],
 "metadata": {
  "kernelspec": {
   "display_name": "ml",
   "language": "python",
   "name": "python3"
  },
  "language_info": {
   "codemirror_mode": {
    "name": "ipython",
    "version": 3
   },
   "file_extension": ".py",
   "mimetype": "text/x-python",
   "name": "python",
   "nbconvert_exporter": "python",
   "pygments_lexer": "ipython3",
   "version": "3.10.9"
  }
 },
 "nbformat": 4,
 "nbformat_minor": 2
}
