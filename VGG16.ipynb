{
  "cells": [
    {
      "cell_type": "markdown",
      "metadata": {
        "id": "tTy1iEs2d42S"
      },
      "source": [
        "#### **Import the required libraries**\n",
        "\n",
        "We will be using a few libraries in this session, import all the required libraries in the cell below one by one as we go through the session.\n"
      ]
    },
    {
      "cell_type": "code",
      "execution_count": 1,
      "metadata": {
        "id": "Wp2b4VPPd42U"
      },
      "outputs": [],
      "source": [
        "import os\n",
        "\n",
        "import matplotlib.pyplot as plt\n",
        "import torch\n",
        "import tqdm\n",
        "import yaml\n",
        "from sklearn.metrics import (ConfusionMatrixDisplay, classification_report,\n",
        "                             confusion_matrix)\n",
        "from torchvision import transforms\n",
        "import torchvision\n",
        "from torchvision.io import read_image"
      ]
    },
    {
      "cell_type": "markdown",
      "metadata": {
        "id": "hlYwVr9Ad42V"
      },
      "source": [
        "#### **Download the dataset**\n",
        "\n",
        "We will be using `CIFAR-10` dataset for this session. The dataset consists of 60,000 32x32 color images in 10 classes, with 6,000 images per class. Please download the dataset using the following command.\n",
        "\n",
        "```python\n",
        "!wget https://github.com/ccdsiub/deeplearning-code-management/raw/1.1/CIFAR-10.zip\n",
        "!wget https://github.com/ccdsiub/deeplearning-code-management/raw/1.1/configs/VGG_config.yaml\n",
        "!unzip -q /content/CIFAR-10.zip -d /content/\n",
        "```\n"
      ]
    },
    {
      "cell_type": "code",
      "execution_count": 2,
      "metadata": {
        "id": "1uF0CRzmd42W",
        "colab": {
          "base_uri": "https://localhost:8080/"
        },
        "outputId": "5bfbd500-f354-4a9a-eb7f-432d1e3a30ce"
      },
      "outputs": [
        {
          "output_type": "stream",
          "name": "stdout",
          "text": [
            "--2024-02-13 08:45:23--  https://github.com/ccdsiub/deeplearning-code-management/raw/1.1/CIFAR-10.zip\n",
            "Resolving github.com (github.com)... 140.82.112.4\n",
            "Connecting to github.com (github.com)|140.82.112.4|:443... connected.\n",
            "HTTP request sent, awaiting response... 302 Found\n",
            "Location: https://raw.githubusercontent.com/ccdsiub/deeplearning-code-management/1.1/CIFAR-10.zip [following]\n",
            "--2024-02-13 08:45:24--  https://raw.githubusercontent.com/ccdsiub/deeplearning-code-management/1.1/CIFAR-10.zip\n",
            "Resolving raw.githubusercontent.com (raw.githubusercontent.com)... 185.199.108.133, 185.199.109.133, 185.199.110.133, ...\n",
            "Connecting to raw.githubusercontent.com (raw.githubusercontent.com)|185.199.108.133|:443... connected.\n",
            "HTTP request sent, awaiting response... 200 OK\n",
            "Length: 57166560 (55M) [application/zip]\n",
            "Saving to: ‘CIFAR-10.zip’\n",
            "\n",
            "CIFAR-10.zip        100%[===================>]  54.52M   140MB/s    in 0.4s    \n",
            "\n",
            "2024-02-13 08:45:24 (140 MB/s) - ‘CIFAR-10.zip’ saved [57166560/57166560]\n",
            "\n",
            "--2024-02-13 08:45:24--  https://github.com/ccdsiub/deeplearning-code-management/raw/1.1/configs/VGG_config.yaml\n",
            "Resolving github.com (github.com)... 140.82.112.4\n",
            "Connecting to github.com (github.com)|140.82.112.4|:443... connected.\n",
            "HTTP request sent, awaiting response... 302 Found\n",
            "Location: https://raw.githubusercontent.com/ccdsiub/deeplearning-code-management/1.1/configs/VGG_config.yaml [following]\n",
            "--2024-02-13 08:45:24--  https://raw.githubusercontent.com/ccdsiub/deeplearning-code-management/1.1/configs/VGG_config.yaml\n",
            "Resolving raw.githubusercontent.com (raw.githubusercontent.com)... 185.199.111.133, 185.199.108.133, 185.199.110.133, ...\n",
            "Connecting to raw.githubusercontent.com (raw.githubusercontent.com)|185.199.111.133|:443... connected.\n",
            "HTTP request sent, awaiting response... 200 OK\n",
            "Length: 196 [text/plain]\n",
            "Saving to: ‘VGG_config.yaml’\n",
            "\n",
            "VGG_config.yaml     100%[===================>]     196  --.-KB/s    in 0s      \n",
            "\n",
            "2024-02-13 08:45:25 (9.67 MB/s) - ‘VGG_config.yaml’ saved [196/196]\n",
            "\n"
          ]
        }
      ],
      "source": [
        "!wget https://github.com/ccdsiub/deeplearning-code-management/raw/1.1/CIFAR-10.zip\n",
        "!wget https://github.com/ccdsiub/deeplearning-code-management/raw/1.1/configs/VGG_config.yaml\n",
        "!unzip -q CIFAR-10.zip -d ."
      ]
    },
    {
      "cell_type": "markdown",
      "source": [
        "#### **Load configuration file**\n",
        "\n",
        "We will be using a configuration file to store all the required parameters for the model. The configuration file is a YAML file, which is a human-readable data serialization standard that can be used in conjunction with all programming languages and is often used to write configuration files. Create a new file named `config.yaml` and add the following content to it.\n",
        "\n",
        "```yaml\n",
        "data_params:\n",
        "  data_path: \"CIFAR-10/\"\n",
        "```\n",
        "\n",
        "Read the configuration file using the `yaml` library and store the data in a variable named `config`.\n"
      ],
      "metadata": {
        "id": "vX9OeiOxnfay"
      }
    },
    {
      "cell_type": "code",
      "source": [
        "file = open(\"VGG_config.yaml\")\n",
        "config = yaml.safe_load(file)\n",
        "file.close()\n",
        "print(config)"
      ],
      "metadata": {
        "colab": {
          "base_uri": "https://localhost:8080/"
        },
        "id": "vDn8w76Ena06",
        "outputId": "1758296d-f95d-4cbb-b8fd-d7dee78d0664"
      },
      "execution_count": 3,
      "outputs": [
        {
          "output_type": "stream",
          "name": "stdout",
          "text": [
            "{'data_params': {'data_path': 'CIFAR-10/', 'train_ratio': 0.8, 'batch_size': 64}, 'model_params': {'num_classes': 10, 'learning_rate': 0.001, 'weight_decay': 0.0001, 'gamma': 0.1, 'step_size': 5, 'num_epochs': 1}}\n"
          ]
        }
      ]
    },
    {
      "cell_type": "markdown",
      "metadata": {
        "id": "rNgBOHn_d42W"
      },
      "source": [
        "#### **Load the dataset**\n",
        "\n",
        "Check the files in the side panel to see if the dataset is downloaded successfully. The dataset is organized in the following way.\n",
        "\n",
        "```\n",
        "CIFAR-10\n",
        " |\n",
        " └───airplane\n",
        " |\n",
        " └───automobile\n",
        " |\n",
        " └───bird\n",
        " |\n",
        " └───cat\n",
        " |\n",
        " └───deer\n",
        " |\n",
        " └───dog\n",
        " |\n",
        " └───frog\n",
        " |\n",
        " └───horse\n",
        " |\n",
        " └───ship\n",
        " |\n",
        " └───truck\n",
        "```\n",
        "\n",
        "Write a class named `CIFAR10Dataset` to load the dataset.\n"
      ]
    },
    {
      "cell_type": "code",
      "execution_count": 4,
      "metadata": {
        "id": "xaso9Btsd42d"
      },
      "outputs": [],
      "source": [
        "class CIFAR10(torch.utils.data.Dataset):\n",
        "    \"\"\"The CIFAR10 dataset\"\"\"\n",
        "\n",
        "    def __init__(self, root, transform=None, target_transform=None) -> None:\n",
        "        \"\"\"\n",
        "        Initialize the CIFAR10 dataset\n",
        "\n",
        "        :param root: The root directory of the dataset\n",
        "        :type root: str\n",
        "        :param transform: The transform to apply to the data\n",
        "        :type transform: callable\n",
        "        :param target_transform: The transform to apply to the target\n",
        "        :type target_transform: callable\n",
        "\n",
        "        :return: None\n",
        "        :rtype: None\n",
        "        \"\"\"\n",
        "        self.root = root\n",
        "        self.transform = transform\n",
        "        self.target_transform = target_transform\n",
        "        self.data = []\n",
        "        self.targets = []\n",
        "\n",
        "        self._load_data()\n",
        "\n",
        "    def _load_data(self):\n",
        "        \"\"\"\n",
        "        Load the data from the root directory\n",
        "\n",
        "        :return: None\n",
        "        :rtype: None\n",
        "        \"\"\"\n",
        "        # Load the data\n",
        "        for i, class_name in enumerate(os.listdir(self.root)):\n",
        "            class_dir = os.path.join(self.root, class_name)\n",
        "            for image_name in os.listdir(class_dir):\n",
        "                image_path = os.path.join(class_dir, image_name)\n",
        "                image = read_image(image_path)\n",
        "                self.data.append(image)\n",
        "                self.targets.append(float(i))\n",
        "\n",
        "    def __getitem__(self, index: int) -> tuple:\n",
        "        \"\"\"\n",
        "        Get the item at the given index\n",
        "\n",
        "        :param index: The index of the item\n",
        "        :type index: int\n",
        "\n",
        "        :return: The item at the given index\n",
        "        :rtype: tuple\n",
        "        \"\"\"\n",
        "        img, target = self.data[index], self.targets[index]\n",
        "\n",
        "        if self.transform is not None:\n",
        "            img = self.transform(img)\n",
        "\n",
        "        if self.target_transform is not None:\n",
        "            target = self.target_transform(target)\n",
        "\n",
        "        return img, target\n",
        "\n",
        "    def __len__(self) -> int:\n",
        "        \"\"\"\n",
        "        Get the length of the dataset\n",
        "\n",
        "        :return: The length of the dataset\n",
        "        :rtype: int\n",
        "        \"\"\"\n",
        "        return len(self.data)"
      ]
    },
    {
      "cell_type": "markdown",
      "metadata": {
        "id": "_tsE_OvVd42d"
      },
      "source": [
        "#### **Preprocess transformations**\n",
        "\n",
        "Insted of loading the entire dataset into memory, and then applying transformations, we will be using `torchvision.transforms` to apply transformations while loading the dataset. We will use the following transformations:\n",
        "\n",
        "1. `ToTensor`: Convert the image to a tensor with pixel values in the range [0, 1].\n",
        "2. `Normalize`: Normalize the tensor with mean and standard deviation.\n",
        "3. `Lambda`: To flatten the image tensor.\n"
      ]
    },
    {
      "cell_type": "code",
      "execution_count": 5,
      "metadata": {
        "id": "PaG4dLZbd42d"
      },
      "outputs": [],
      "source": [
        "transform = transforms.Compose([\n",
        "    transforms.ConvertImageDtype(torch.float32),\n",
        "    transforms.Normalize((0.485, 0.456, 0.406), (0.229, 0.224, 0.225)),\n",
        "])\n",
        "\n",
        "# you can transform the target too if you want (e.g. one hot encode)\n",
        "target_transform = transforms.Lambda(\n",
        "    lambda y: torch.tensor(y, dtype=torch.long))"
      ]
    },
    {
      "cell_type": "markdown",
      "metadata": {
        "id": "WEIRxQkkd42d"
      },
      "source": [
        "Initialize the `CIFAR10Dataset` class with the `data_path` from the configuration file or you can use `torchvision.Dataset.ImageFolder` to load the dataset. Pass the transformations to the `CIFAR10Dataset` class and load the dataset.\n",
        "You can load the class name from the folder using `os.listdir` for later use.\n"
      ]
    },
    {
      "cell_type": "code",
      "execution_count": 6,
      "metadata": {
        "id": "U8XafO6Wd42e"
      },
      "outputs": [],
      "source": [
        "data_path = config[\"data_params\"][\"data_path\"]\n",
        "classes = os.listdir(data_path)\n",
        "\n",
        "dataset = CIFAR10(data_path, transform=transform,\n",
        "                  target_transform=target_transform)\n",
        "\n",
        "# dataset = ImageFolder(data_path, transform=transform,\n",
        "                    #  target_transform=target_transform)"
      ]
    },
    {
      "cell_type": "markdown",
      "metadata": {
        "id": "Tgm-T7Mgd42e"
      },
      "source": [
        "#### **Split the data**\n",
        "\n",
        "Use `torch.utils.data.random_split` to split the dataset into training and validation sets. Use 80% of the data for training and 10% for validation and 10% for testing.\n"
      ]
    },
    {
      "cell_type": "code",
      "execution_count": 7,
      "metadata": {
        "id": "9x1iLzb4d42e",
        "outputId": "d0338bf4-9247-4081-cd96-d90a30e888f6",
        "colab": {
          "base_uri": "https://localhost:8080/"
        }
      },
      "outputs": [
        {
          "output_type": "stream",
          "name": "stdout",
          "text": [
            "Train size: 48001\n",
            "Test size: 6000\n",
            "Validation size: 5999\n"
          ]
        }
      ],
      "source": [
        "train_size = config[\"data_params\"][\"train_ratio\"]\n",
        "test_size = (1 - train_size) / 2\n",
        "val_size = test_size\n",
        "\n",
        "train_dataset, test_dataset, val_dataset = torch.utils.data.random_split(\n",
        "    dataset, [train_size, test_size, val_size])\n",
        "\n",
        "print(f\"Train size: {len(train_dataset)}\")\n",
        "print(f\"Test size: {len(test_dataset)}\")\n",
        "print(f\"Validation size: {len(val_dataset)}\")"
      ]
    },
    {
      "cell_type": "markdown",
      "metadata": {
        "id": "Eawb00KXd42e"
      },
      "source": [
        "#### **Create data loaders**\n",
        "\n",
        "Use `torch.utils.data.DataLoader` to create data loaders for training, validation, and testing datasets. Use a batch size from the configuration file.\n"
      ]
    },
    {
      "cell_type": "code",
      "execution_count": 8,
      "metadata": {
        "id": "v7AjA87Wd42e"
      },
      "outputs": [],
      "source": [
        "train_loader = torch.utils.data.DataLoader(\n",
        "    train_dataset,\n",
        "    batch_size=config[\"data_params\"][\"batch_size\"],\n",
        "    num_workers=torch.get_num_threads(),\n",
        "    shuffle=True\n",
        ")\n",
        "\n",
        "test_loader = torch.utils.data.DataLoader(\n",
        "    test_dataset,\n",
        "    batch_size=config[\"data_params\"][\"batch_size\"],\n",
        "    num_workers=torch.get_num_threads(),\n",
        "    shuffle=True\n",
        ")\n",
        "\n",
        "val_loader = torch.utils.data.DataLoader(\n",
        "    val_dataset,\n",
        "    batch_size=config[\"data_params\"][\"batch_size\"],\n",
        "    num_workers=torch.get_num_threads(),\n",
        "    shuffle=True\n",
        ")"
      ]
    },
    {
      "cell_type": "markdown",
      "metadata": {
        "id": "RVaDvPhbd42f"
      },
      "source": [
        "#### **Initialize the model**\n",
        "\n",
        "Initialize the model and define the loss function, optimizer, and scheduler. Use the loss function as `nn.CrossEntropyLoss`, optimizer as `torch.optim.Adam`, and scheduler as `torch.optim.lr_scheduler.StepLR`. Use the learning rate and step size from the configuration file. Use the device as `cuda` if available, else use `cpu`.\n"
      ]
    },
    {
      "cell_type": "code",
      "source": [
        "device = torch.device(\"cuda\" if torch.cuda.is_available() else \"cpu\")\n",
        "\n",
        "model = torchvision.models.vgg16(pretrained=True)\n",
        "\n",
        "# Freeze pretrained layers\n",
        "for param in model.parameters():\n",
        "    param.requires_grad = False\n",
        "\n",
        "# Modify the fully connected layer\n",
        "num_ftrs = model.classifier[-1].in_features\n",
        "model.classifier[-1] = torch.nn.Linear(num_ftrs, config['model_params']['num_classes'])  # Change the output to 10 classes for CIFAR-10\n",
        "\n",
        "model = model.to(device)"
      ],
      "metadata": {
        "id": "p-geQ9yVYm7Z",
        "colab": {
          "base_uri": "https://localhost:8080/"
        },
        "outputId": "c5694352-4541-494a-fcfa-c11d9f953ac7"
      },
      "execution_count": 9,
      "outputs": [
        {
          "output_type": "stream",
          "name": "stderr",
          "text": [
            "/usr/local/lib/python3.10/dist-packages/torchvision/models/_utils.py:208: UserWarning: The parameter 'pretrained' is deprecated since 0.13 and may be removed in the future, please use 'weights' instead.\n",
            "  warnings.warn(\n",
            "/usr/local/lib/python3.10/dist-packages/torchvision/models/_utils.py:223: UserWarning: Arguments other than a weight enum or `None` for 'weights' are deprecated since 0.13 and may be removed in the future. The current behavior is equivalent to passing `weights=VGG16_Weights.IMAGENET1K_V1`. You can also use `weights=VGG16_Weights.DEFAULT` to get the most up-to-date weights.\n",
            "  warnings.warn(msg)\n",
            "Downloading: \"https://download.pytorch.org/models/vgg16-397923af.pth\" to /root/.cache/torch/hub/checkpoints/vgg16-397923af.pth\n",
            "100%|██████████| 528M/528M [00:03<00:00, 157MB/s]\n"
          ]
        }
      ]
    },
    {
      "cell_type": "code",
      "execution_count": 10,
      "metadata": {
        "id": "xHGODD5Yd42f"
      },
      "outputs": [],
      "source": [
        "criterion = torch.nn.CrossEntropyLoss()\n",
        "optimizer = torch.optim.Adam(\n",
        "    model.parameters(),\n",
        "    lr=config[\"model_params\"][\"learning_rate\"],\n",
        "    # L2 regularization\n",
        "    weight_decay=config[\"model_params\"][\"weight_decay\"]\n",
        ")\n",
        "scheduler = torch.optim.lr_scheduler.StepLR(\n",
        "    optimizer,\n",
        "    step_size=config[\"model_params\"][\"step_size\"],\n",
        "    gamma=config[\"model_params\"][\"gamma\"]\n",
        ")"
      ]
    },
    {
      "cell_type": "markdown",
      "metadata": {
        "id": "XkSan24Bd42f"
      },
      "source": [
        "##### **Validation function**\n",
        "\n",
        "Create a function named `validate` to calculate the accuracy of the model on the validation dataset. Use the `model.eval` method to set the model to evaluation mode and use the `torch.no_grad` context manager to disable gradient calculation. Iterate through the validation data loader and calculate the accuracy of the model.\n"
      ]
    },
    {
      "cell_type": "code",
      "execution_count": 11,
      "metadata": {
        "id": "6CgLRWa5d42f"
      },
      "outputs": [],
      "source": [
        "def validate(\n",
        "    model,\n",
        "    val_loader: torch.utils.data.DataLoader,\n",
        "    criterion: torch.nn.Module,\n",
        "    device: torch.device\n",
        ") -> tuple:\n",
        "    \"\"\"\n",
        "    Validate the model\n",
        "\n",
        "    :param model: The model to validate\n",
        "    :type model: torch.nn.Module\n",
        "    :param val_loader: The validation loader\n",
        "    :type val_loader: torch.utils.data.DataLoader\n",
        "    :param criterion: The loss function\n",
        "    :type criterion: torch.nn.Module\n",
        "    :param device: The device to use\n",
        "    :type device: torch.device\n",
        "\n",
        "    :return: The loss, accuracy and predictions\n",
        "    :rtype: tuple\n",
        "    \"\"\"\n",
        "    model.eval()\n",
        "    val_loss = 0.0\n",
        "    correct = 0\n",
        "    y_pred = []\n",
        "    with torch.no_grad():\n",
        "        for images, labels in val_loader:\n",
        "            images, labels = images.to(device), labels.to(device)\n",
        "            outputs = model(images)\n",
        "            loss = criterion(outputs, labels)\n",
        "            val_loss += loss.item()\n",
        "            _, predicted = torch.max(outputs, 1)\n",
        "            correct += (predicted == labels).sum().item()\n",
        "            y_pred.extend(predicted.cpu().numpy())\n",
        "\n",
        "    val_loss /= len(val_loader)\n",
        "    accuracy = correct / len(y_pred)\n",
        "\n",
        "    return val_loss, accuracy, y_pred"
      ]
    },
    {
      "cell_type": "markdown",
      "metadata": {
        "id": "eHhLskVOd42f"
      },
      "source": [
        "#### **Training function**\n",
        "\n",
        "Write a function named `train` to train the model. Use the `model.train` method to set the model to training mode. Iterate through the training data loader and calculate the loss and accuracy of the model. Use the `optimizer.zero_grad` method to zero the gradients and use the `loss.backward` method to backpropagate the loss. Use the `optimizer.step` method to update the model parameters. Use the `scheduler.step` method to update the learning rate.\n"
      ]
    },
    {
      "cell_type": "code",
      "execution_count": 12,
      "metadata": {
        "id": "S8laHd23d42f"
      },
      "outputs": [],
      "source": [
        "def train(\n",
        "    model: torch.nn.Module,\n",
        "    train_loader: torch.utils.data.DataLoader,\n",
        "    val_loader: torch.utils.data.DataLoader,\n",
        "    criterion: torch.nn.Module,\n",
        "    optimizer: torch.optim.Optimizer,\n",
        "    scheduler: torch.optim.lr_scheduler.StepLR,\n",
        "    device: torch.device,\n",
        "    num_epochs: int\n",
        ") -> tuple:\n",
        "    \"\"\"\n",
        "    Train the model\n",
        "\n",
        "    :param model: The model to train\n",
        "    :type model: torch.nn.Module\n",
        "    :param train_loader: The training loader\n",
        "    :type train_loader: torch.utils.data.DataLoader\n",
        "    :param val_loader: The validation loader\n",
        "    :type val_loader: torch.utils.data.DataLoader\n",
        "    :param criterion: The loss function\n",
        "    :type criterion: torch.nn.Module\n",
        "    :param optimizer: The optimizer\n",
        "    :type optimizer: torch.optim.Optimizer\n",
        "    :param scheduler: The learning rate scheduler\n",
        "    :type scheduler: torch.optim.lr_scheduler.StepLR\n",
        "    :param device: The device to use\n",
        "    :type device: torch.device\n",
        "    :param num_epochs: The number of epochs\n",
        "    :type num_epochs: int\n",
        "\n",
        "    :return: The trained model and the training history\n",
        "    :rtype: tuple\n",
        "    \"\"\"\n",
        "    history = {\n",
        "        \"train_loss\": [],\n",
        "        \"val_loss\": [],\n",
        "        \"val_acc\": []\n",
        "    }\n",
        "    best_acc = 0.0\n",
        "\n",
        "    for epoch in range(num_epochs):\n",
        "        model.train()\n",
        "        train_loss = 0.0\n",
        "        loop = tqdm.tqdm(enumerate(train_loader),\n",
        "                         total=len(train_loader), leave=False)\n",
        "        for i, (images, labels) in loop:\n",
        "            images, labels = images.to(device), labels.to(device)\n",
        "            optimizer.zero_grad()\n",
        "            outputs = model(images)\n",
        "            loss = criterion(outputs, labels)\n",
        "            loss.backward()\n",
        "            optimizer.step()\n",
        "            train_loss += loss.item()\n",
        "\n",
        "            loop.set_description(f\"Epoch [{epoch + 1}/{num_epochs}]\")\n",
        "            loop.set_postfix(loss=train_loss / (i + 1))\n",
        "\n",
        "        train_loss /= len(train_loader)\n",
        "        val_loss, val_acc, _ = validate(model, val_loader, criterion, device)\n",
        "        history[\"train_loss\"].append(train_loss)\n",
        "        history[\"val_loss\"].append(val_loss)\n",
        "        history[\"val_acc\"].append(val_acc)\n",
        "\n",
        "        print(f\"Epoch [{epoch + 1}/{num_epochs}]\")\n",
        "        print(f\"Train loss: {train_loss:.4f}\")\n",
        "        print(f\"Validation loss: {val_loss:.4f}\")\n",
        "        print(f\"Validation accuracy: {val_acc:.2f}%\")\n",
        "\n",
        "        if val_acc > best_acc:\n",
        "            best_acc = val_acc\n",
        "            checkpoint = {\n",
        "                \"epoch\": epoch + 1,\n",
        "                \"model\": model.state_dict(),\n",
        "                \"optimizer\": optimizer.state_dict(),\n",
        "                \"scheduler\": scheduler.state_dict(),\n",
        "                \"history\": history\n",
        "            }\n",
        "            torch.save(checkpoint, \"checkpoint.pth\")\n",
        "\n",
        "        scheduler.step()\n",
        "\n",
        "    return model, history"
      ]
    },
    {
      "cell_type": "markdown",
      "metadata": {
        "id": "pFPriGRxd42g"
      },
      "source": [
        "##### **Train the model**\n",
        "\n",
        "Call the `train` function to train the model.\n"
      ]
    },
    {
      "cell_type": "code",
      "execution_count": 13,
      "metadata": {
        "id": "L7F-I14Ed42g",
        "outputId": "d991194a-e372-40a7-e95f-fb04d0aa2069",
        "colab": {
          "base_uri": "https://localhost:8080/"
        }
      },
      "outputs": [
        {
          "output_type": "stream",
          "name": "stderr",
          "text": []
        },
        {
          "output_type": "stream",
          "name": "stdout",
          "text": [
            "Epoch [1/1]\n",
            "Train loss: 1.6531\n",
            "Validation loss: 1.2861\n",
            "Validation accuracy: 0.57%\n"
          ]
        }
      ],
      "source": [
        "model, history = train(\n",
        "    model,\n",
        "    train_loader,\n",
        "    val_loader,\n",
        "    criterion,\n",
        "    optimizer,\n",
        "    scheduler,\n",
        "    device,\n",
        "    num_epochs=config[\"model_params\"][\"num_epochs\"]\n",
        ")"
      ]
    },
    {
      "cell_type": "markdown",
      "metadata": {
        "id": "oHqIlL22d42g"
      },
      "source": [
        "#### **Plot the learning curve**\n",
        "\n",
        "Plot the training loss and validation loss using `matplotlib`, keep both the training loss and validation loss in the same plot.\n"
      ]
    },
    {
      "cell_type": "code",
      "execution_count": 14,
      "metadata": {
        "id": "6UhFH7S_d42g",
        "outputId": "072abd1f-1c58-4655-aa23-38d35132c747",
        "colab": {
          "base_uri": "https://localhost:8080/",
          "height": 472
        }
      },
      "outputs": [
        {
          "output_type": "display_data",
          "data": {
            "text/plain": [
              "<Figure size 640x480 with 1 Axes>"
            ],
            "image/png": "[encoded data removed]"
          },
          "metadata": {}
        }
      ],
      "source": [
        "plt.plot(history[\"train_loss\"], label=\"Train loss\")\n",
        "plt.plot(history[\"val_loss\"], label=\"Validation loss\")\n",
        "plt.title(\"Loss curve\")\n",
        "plt.xlabel(\"Epoch\")\n",
        "plt.ylabel(\"Loss\")\n",
        "plt.legend()\n",
        "plt.show()"
      ]
    },
    {
      "cell_type": "markdown",
      "metadata": {
        "id": "FmYrwmXOd42g"
      },
      "source": [
        "#### **Load the model from the checkpoint**\n",
        "\n",
        "Use `torch.load` to load the model from the checkpoint and use the `model.load_state_dict` method to load the model weights.\n"
      ]
    },
    {
      "cell_type": "code",
      "execution_count": 15,
      "metadata": {
        "id": "lHsvHeAxd42g",
        "outputId": "ce905193-bd9c-46e6-8258-93e1ae93b8e9",
        "colab": {
          "base_uri": "https://localhost:8080/"
        }
      },
      "outputs": [
        {
          "output_type": "execute_result",
          "data": {
            "text/plain": [
              "<All keys matched successfully>"
            ]
          },
          "metadata": {},
          "execution_count": 15
        }
      ],
      "source": [
        "model.load_state_dict(torch.load(\"checkpoint.pth\")[\"model\"])"
      ]
    },
    {
      "cell_type": "markdown",
      "metadata": {
        "id": "NcRgR9rBd42h"
      },
      "source": [
        "#### **Evaluate model performance**\n",
        "\n",
        "Now, we have trained the model. Call the `validate` function to validate the model and calculate the loss and predicted labels on the testing data.\n",
        "\n",
        "1. Use scikit-learn's `classification_report` function to evaluate the performance of the model. The `classification_report` function takes two inputs, `test_labels` and `predicted_labels`, and returns a report of the precision, recall, and F1-score of the model.\n",
        "2. Use the `confusion_matrix` function to get the confusion matrix of the model. It also takes two inputs, `test_labels` and `predicted_labels`, and returns the confusion matrix of the model. Use `ConfusionMatrixDisplay` to display the confusion matrix.\n"
      ]
    },
    {
      "cell_type": "code",
      "execution_count": 16,
      "metadata": {
        "id": "I0KaFUhBd42h",
        "outputId": "cc7d50e1-063b-45a8-8028-ed8776b673da",
        "colab": {
          "base_uri": "https://localhost:8080/",
          "height": 888
        }
      },
      "outputs": [
        {
          "output_type": "display_data",
          "data": {
            "text/plain": [
              "<Figure size 640x480 with 2 Axes>"
            ],
            "image/png": "[encoded data removed]"
          },
          "metadata": {}
        },
        {
          "output_type": "stream",
          "name": "stdout",
          "text": [
            "\n",
            "\n",
            "\n",
            "              precision    recall  f1-score   support\n",
            "\n",
            "  automobile       0.13      0.12      0.12       629\n",
            "       truck       0.11      0.12      0.12       599\n",
            "        deer       0.11      0.12      0.12       641\n",
            "    airplane       0.11      0.09      0.10       589\n",
            "        frog       0.11      0.09      0.10       577\n",
            "        bird       0.09      0.08      0.09       554\n",
            "         cat       0.10      0.08      0.09       633\n",
            "         dog       0.11      0.14      0.12       614\n",
            "       horse       0.11      0.11      0.11       568\n",
            "        ship       0.10      0.12      0.11       596\n",
            "\n",
            "    accuracy                           0.11      6000\n",
            "   macro avg       0.11      0.11      0.11      6000\n",
            "weighted avg       0.11      0.11      0.11      6000\n",
            "\n"
          ]
        }
      ],
      "source": [
        "_, _, y_pred = validate(model, test_loader, criterion, device)\n",
        "y_test = [labels for _, labels in test_loader]\n",
        "y_test = torch.cat(y_test).numpy()\n",
        "\n",
        "disp = ConfusionMatrixDisplay(confusion_matrix=confusion_matrix(\n",
        "    y_test, y_pred), display_labels=classes)\n",
        "disp = disp.plot(xticks_rotation=45)\n",
        "plt.title('Confusion Matrix Test Data')\n",
        "plt.show()\n",
        "\n",
        "print('\\n\\n')\n",
        "print(classification_report(y_test, y_pred, target_names=classes))"
      ]
    }
  ],
  "metadata": {
    "kernelspec": {
      "display_name": "Python 3",
      "name": "python3"
    },
    "language_info": {
      "codemirror_mode": {
        "name": "ipython",
        "version": 3
      },
      "file_extension": ".py",
      "mimetype": "text/x-python",
      "name": "python",
      "nbconvert_exporter": "python",
      "pygments_lexer": "ipython3",
      "version": "3.10.9"
    },
    "colab": {
      "provenance": [],
      "gpuType": "T4"
    },
    "accelerator": "GPU"
  },
  "nbformat": 4,
  "nbformat_minor": 0
}